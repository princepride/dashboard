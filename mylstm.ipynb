{
 "cells": [
  {
   "cell_type": "code",
   "execution_count": 2,
   "metadata": {},
   "outputs": [],
   "source": [
    "import numpy as np\n",
    "import pandas as pd\n",
    "from tensorflow.keras.models import Sequential\n",
    "from tensorflow.keras.layers import Dense, Dropout, LSTM\n",
    "from tensorflow.keras.callbacks import ModelCheckpoint, EarlyStopping\n",
    "import os\n",
    "import matplotlib.pyplot as plt\n",
    "import pandas_datareader as web\n",
    "import datetime as dt\n",
    "\n",
    "from sklearn.preprocessing import MinMaxScaler"
   ]
  },
  {
   "cell_type": "code",
   "execution_count": 3,
   "metadata": {},
   "outputs": [],
   "source": [
    "from sqlite3 import connect"
   ]
  },
  {
   "cell_type": "code",
   "execution_count": 4,
   "metadata": {},
   "outputs": [],
   "source": [
    "conn = connect('stocks.db')"
   ]
  },
  {
   "cell_type": "code",
   "execution_count": 5,
   "metadata": {},
   "outputs": [
    {
     "data": {
      "text/html": [
       "<div>\n",
       "<style scoped>\n",
       "    .dataframe tbody tr th:only-of-type {\n",
       "        vertical-align: middle;\n",
       "    }\n",
       "\n",
       "    .dataframe tbody tr th {\n",
       "        vertical-align: top;\n",
       "    }\n",
       "\n",
       "    .dataframe thead th {\n",
       "        text-align: right;\n",
       "    }\n",
       "</style>\n",
       "<table border=\"1\" class=\"dataframe\">\n",
       "  <thead>\n",
       "    <tr style=\"text-align: right;\">\n",
       "      <th></th>\n",
       "      <th>ticker</th>\n",
       "      <th>date</th>\n",
       "      <th>open</th>\n",
       "      <th>high</th>\n",
       "      <th>low</th>\n",
       "      <th>close</th>\n",
       "      <th>adjClose</th>\n",
       "      <th>volume</th>\n",
       "      <th>dailyreturn</th>\n",
       "    </tr>\n",
       "  </thead>\n",
       "  <tbody>\n",
       "    <tr>\n",
       "      <th>0</th>\n",
       "      <td>AAPL</td>\n",
       "      <td>2022-09-08</td>\n",
       "      <td>154.640</td>\n",
       "      <td>156.35</td>\n",
       "      <td>152.68</td>\n",
       "      <td>154.46</td>\n",
       "      <td>154.46</td>\n",
       "      <td>83851495</td>\n",
       "      <td>-0.009618</td>\n",
       "    </tr>\n",
       "    <tr>\n",
       "      <th>1</th>\n",
       "      <td>AAPL</td>\n",
       "      <td>2022-09-07</td>\n",
       "      <td>154.825</td>\n",
       "      <td>156.67</td>\n",
       "      <td>153.61</td>\n",
       "      <td>155.96</td>\n",
       "      <td>155.96</td>\n",
       "      <td>87450049</td>\n",
       "      <td>0.009254</td>\n",
       "    </tr>\n",
       "    <tr>\n",
       "      <th>2</th>\n",
       "      <td>AAPL</td>\n",
       "      <td>2022-09-06</td>\n",
       "      <td>156.470</td>\n",
       "      <td>157.09</td>\n",
       "      <td>153.69</td>\n",
       "      <td>154.53</td>\n",
       "      <td>154.53</td>\n",
       "      <td>73607839</td>\n",
       "      <td>-0.008215</td>\n",
       "    </tr>\n",
       "    <tr>\n",
       "      <th>3</th>\n",
       "      <td>AAPL</td>\n",
       "      <td>2022-09-02</td>\n",
       "      <td>159.750</td>\n",
       "      <td>160.36</td>\n",
       "      <td>154.97</td>\n",
       "      <td>155.81</td>\n",
       "      <td>155.81</td>\n",
       "      <td>76910050</td>\n",
       "      <td>-0.013611</td>\n",
       "    </tr>\n",
       "    <tr>\n",
       "      <th>4</th>\n",
       "      <td>AAPL</td>\n",
       "      <td>2022-09-01</td>\n",
       "      <td>156.640</td>\n",
       "      <td>158.42</td>\n",
       "      <td>154.67</td>\n",
       "      <td>157.96</td>\n",
       "      <td>157.96</td>\n",
       "      <td>74118439</td>\n",
       "      <td>0.004707</td>\n",
       "    </tr>\n",
       "  </tbody>\n",
       "</table>\n",
       "</div>"
      ],
      "text/plain": [
       "  ticker        date     open    high     low   close  adjClose    volume  \\\n",
       "0   AAPL  2022-09-08  154.640  156.35  152.68  154.46    154.46  83851495   \n",
       "1   AAPL  2022-09-07  154.825  156.67  153.61  155.96    155.96  87450049   \n",
       "2   AAPL  2022-09-06  156.470  157.09  153.69  154.53    154.53  73607839   \n",
       "3   AAPL  2022-09-02  159.750  160.36  154.97  155.81    155.81  76910050   \n",
       "4   AAPL  2022-09-01  156.640  158.42  154.67  157.96    157.96  74118439   \n",
       "\n",
       "   dailyreturn  \n",
       "0    -0.009618  \n",
       "1     0.009254  \n",
       "2    -0.008215  \n",
       "3    -0.013611  \n",
       "4     0.004707  "
      ]
     },
     "execution_count": 5,
     "metadata": {},
     "output_type": "execute_result"
    }
   ],
   "source": [
    "df = pd.read_sql('SELECT * FROM alltickers', conn)\n",
    "df.head()"
   ]
  },
  {
   "cell_type": "code",
   "execution_count": 6,
   "metadata": {},
   "outputs": [],
   "source": [
    "df['date'] = pd.to_datetime(df['date'], format='%Y-%m-%d')"
   ]
  },
  {
   "cell_type": "code",
   "execution_count": 7,
   "metadata": {},
   "outputs": [],
   "source": [
    "def load_data(company, start, end):\n",
    "    dataframe = df.copy()\n",
    "    dataframe = dataframe.loc[dataframe.ticker == company, :]\n",
    "    dataframe = dataframe.loc[(dataframe['date'] > start) & (dataframe['date'] < end), :]\n",
    "    dataframe = dataframe.rename(columns = {'close': 'Close'})\n",
    "    return dataframe"
   ]
  },
  {
   "cell_type": "code",
   "execution_count": 8,
   "metadata": {},
   "outputs": [],
   "source": [
    "COMPANY = 'AAPL'\n",
    "START_DATE = dt.datetime(2018,1,1)\n",
    "END_DATE = dt.datetime(2022,6,1)\n",
    "START_DATE_TEST = END_DATE"
   ]
  },
  {
   "cell_type": "code",
   "execution_count": 9,
   "metadata": {},
   "outputs": [],
   "source": [
    "data = load_data(company = COMPANY,\n",
    "                 start = START_DATE,\n",
    "                 end = END_DATE)"
   ]
  },
  {
   "cell_type": "code",
   "execution_count": 10,
   "metadata": {},
   "outputs": [],
   "source": [
    "scaler = MinMaxScaler(feature_range=(0,1))\n",
    "scaled_data = scaler.fit_transform(data['Close'].values.reshape(-1,1))"
   ]
  },
  {
   "cell_type": "code",
   "execution_count": 11,
   "metadata": {},
   "outputs": [
    {
     "data": {
      "text/plain": [
       "1111"
      ]
     },
     "execution_count": 11,
     "metadata": {},
     "output_type": "execute_result"
    }
   ],
   "source": [
    "len(scaled_data)"
   ]
  },
  {
   "cell_type": "code",
   "execution_count": 72,
   "metadata": {},
   "outputs": [
    {
     "data": {
      "text/plain": [
       "array([0.77352565, 0.77898782, 0.73897757, 0.71671935, 0.7156269 ,\n",
       "       0.73440303, 0.69671418, 0.6950756 , 0.71876768, 0.77625679,\n",
       "       0.75099426, 0.76171378, 0.73064779, 0.75754889, 0.81223862,\n",
       "       0.79551081, 0.83115134, 0.82766926, 0.89082536, 0.84617223,\n",
       "       0.83579422, 0.83367755, 0.87457543, 0.82630374, 0.82787408,\n",
       "       0.86938643, 0.86194417, 0.89355639, 0.8990868 , 0.9002475 ,\n",
       "       0.88433908, 0.88584107, 0.92073056, 0.90202276, 0.88898185,\n",
       "       0.91861399, 0.93261077, 0.9304942 , 0.9525476 , 0.97562521,\n",
       "       0.94742683, 0.94947516, 0.97105068, 0.97917564, 0.95623461,\n",
       "       0.95022621, 0.94578826, 0.91943338, 0.9099429 , 0.88645564,\n",
       "       0.87689682, 0.85395579, 0.84692328, 0.81619869, 0.78567892,\n",
       "       0.81374072, 0.83961771, 0.86986431, 0.8322438 , 0.8449433 ])"
      ]
     },
     "execution_count": 72,
     "metadata": {},
     "output_type": "execute_result"
    }
   ],
   "source": [
    "scaled_data[0:60,0]"
   ]
  },
  {
   "cell_type": "code",
   "execution_count": 12,
   "metadata": {},
   "outputs": [],
   "source": [
    "# how many days do i want to base my predictions on ?\n",
    "prediction_days = 60\n",
    "\n",
    "x_train = []\n",
    "y_train = []\n",
    "\n",
    "for x in range(prediction_days, len(scaled_data)):\n",
    "    x_train.append(scaled_data[x - prediction_days:x, 0])\n",
    "    y_train.append(scaled_data[x, 0])\n",
    "    \n",
    "x_train, y_train = np.array(x_train), np.array(y_train)\n",
    "x_train = np.reshape(x_train, (x_train.shape[0], x_train.shape[1], 1))"
   ]
  },
  {
   "cell_type": "code",
   "execution_count": 13,
   "metadata": {},
   "outputs": [],
   "source": [
    "def LSTM_model():\n",
    "    \n",
    "    model = Sequential()\n",
    "    \n",
    "    model.add(LSTM(units = 50, return_sequences = True, input_shape = (x_train.shape[1],1)))\n",
    "    model.add(Dropout(0.2))\n",
    "\n",
    "    model.add(LSTM(units = 50, return_sequences = True))\n",
    "    model.add(Dropout(0.2))\n",
    "\n",
    "    model.add(LSTM(units = 50))\n",
    "    model.add(Dropout(0.2))\n",
    "    \n",
    "    model.add(Dense(units=1))\n",
    "    \n",
    "    return model"
   ]
  },
  {
   "cell_type": "code",
   "execution_count": 14,
   "metadata": {},
   "outputs": [
    {
     "name": "stdout",
     "output_type": "stream",
     "text": [
      "Model: \"sequential\"\n",
      "_________________________________________________________________\n",
      " Layer (type)                Output Shape              Param #   \n",
      "=================================================================\n",
      " lstm (LSTM)                 (None, 60, 50)            10400     \n",
      "                                                                 \n",
      " dropout (Dropout)           (None, 60, 50)            0         \n",
      "                                                                 \n",
      " lstm_1 (LSTM)               (None, 60, 50)            20200     \n",
      "                                                                 \n",
      " dropout_1 (Dropout)         (None, 60, 50)            0         \n",
      "                                                                 \n",
      " lstm_2 (LSTM)               (None, 50)                20200     \n",
      "                                                                 \n",
      " dropout_2 (Dropout)         (None, 50)                0         \n",
      "                                                                 \n",
      " dense (Dense)               (None, 1)                 51        \n",
      "                                                                 \n",
      "=================================================================\n",
      "Total params: 50,851\n",
      "Trainable params: 50,851\n",
      "Non-trainable params: 0\n",
      "_________________________________________________________________\n"
     ]
    }
   ],
   "source": [
    "model = LSTM_model()\n",
    "model.summary()\n",
    "model.compile(optimizer='adam',loss='mean_squared_error')"
   ]
  },
  {
   "cell_type": "code",
   "execution_count": 15,
   "metadata": {},
   "outputs": [
    {
     "name": "stdout",
     "output_type": "stream",
     "text": [
      "Epoch 1/25\n",
      "30/33 [==========================>...] - ETA: 0s - loss: 0.0363WARNING:tensorflow:Can save best model only with val_loss available, skipping.\n",
      "33/33 [==============================] - 7s 19ms/step - loss: 0.0336\n",
      "Epoch 2/25\n",
      "33/33 [==============================] - ETA: 0s - loss: 0.0048WARNING:tensorflow:Can save best model only with val_loss available, skipping.\n",
      "33/33 [==============================] - 0s 14ms/step - loss: 0.0048\n",
      "Epoch 3/25\n",
      "33/33 [==============================] - ETA: 0s - loss: 0.0038WARNING:tensorflow:Can save best model only with val_loss available, skipping.\n",
      "33/33 [==============================] - 0s 14ms/step - loss: 0.0038\n",
      "Epoch 4/25\n",
      "33/33 [==============================] - ETA: 0s - loss: 0.0035WARNING:tensorflow:Can save best model only with val_loss available, skipping.\n",
      "33/33 [==============================] - 0s 14ms/step - loss: 0.0035\n",
      "Epoch 5/25\n",
      "33/33 [==============================] - ETA: 0s - loss: 0.0036WARNING:tensorflow:Can save best model only with val_loss available, skipping.\n",
      "33/33 [==============================] - 0s 14ms/step - loss: 0.0036\n",
      "Epoch 6/25\n",
      "32/33 [============================>.] - ETA: 0s - loss: 0.0030WARNING:tensorflow:Can save best model only with val_loss available, skipping.\n",
      "33/33 [==============================] - 0s 15ms/step - loss: 0.0030\n",
      "Epoch 7/25\n",
      "33/33 [==============================] - ETA: 0s - loss: 0.0031WARNING:tensorflow:Can save best model only with val_loss available, skipping.\n",
      "33/33 [==============================] - 0s 14ms/step - loss: 0.0031\n",
      "Epoch 8/25\n",
      "33/33 [==============================] - ETA: 0s - loss: 0.0029WARNING:tensorflow:Can save best model only with val_loss available, skipping.\n",
      "33/33 [==============================] - 0s 14ms/step - loss: 0.0029\n",
      "Epoch 9/25\n",
      "33/33 [==============================] - ETA: 0s - loss: 0.0031WARNING:tensorflow:Can save best model only with val_loss available, skipping.\n",
      "33/33 [==============================] - 0s 14ms/step - loss: 0.0031\n",
      "Epoch 10/25\n",
      "32/33 [============================>.] - ETA: 0s - loss: 0.0027WARNING:tensorflow:Can save best model only with val_loss available, skipping.\n",
      "33/33 [==============================] - 0s 14ms/step - loss: 0.0027\n",
      "Epoch 11/25\n",
      "33/33 [==============================] - ETA: 0s - loss: 0.0027WARNING:tensorflow:Can save best model only with val_loss available, skipping.\n",
      "33/33 [==============================] - 0s 15ms/step - loss: 0.0027\n",
      "Epoch 12/25\n",
      "32/33 [============================>.] - ETA: 0s - loss: 0.0024WARNING:tensorflow:Can save best model only with val_loss available, skipping.\n",
      "33/33 [==============================] - 0s 15ms/step - loss: 0.0024\n",
      "Epoch 13/25\n",
      "33/33 [==============================] - ETA: 0s - loss: 0.0026WARNING:tensorflow:Can save best model only with val_loss available, skipping.\n",
      "33/33 [==============================] - 0s 14ms/step - loss: 0.0026\n",
      "Epoch 14/25\n",
      "33/33 [==============================] - ETA: 0s - loss: 0.0022WARNING:tensorflow:Can save best model only with val_loss available, skipping.\n",
      "33/33 [==============================] - 0s 15ms/step - loss: 0.0022\n",
      "Epoch 15/25\n",
      "33/33 [==============================] - ETA: 0s - loss: 0.0025WARNING:tensorflow:Can save best model only with val_loss available, skipping.\n",
      "33/33 [==============================] - 0s 14ms/step - loss: 0.0025\n",
      "Epoch 16/25\n",
      "33/33 [==============================] - ETA: 0s - loss: 0.0024WARNING:tensorflow:Can save best model only with val_loss available, skipping.\n",
      "33/33 [==============================] - 0s 14ms/step - loss: 0.0024\n",
      "Epoch 17/25\n",
      "32/33 [============================>.] - ETA: 0s - loss: 0.0023WARNING:tensorflow:Can save best model only with val_loss available, skipping.\n",
      "33/33 [==============================] - 0s 15ms/step - loss: 0.0023\n",
      "Epoch 18/25\n",
      "33/33 [==============================] - ETA: 0s - loss: 0.0029WARNING:tensorflow:Can save best model only with val_loss available, skipping.\n",
      "33/33 [==============================] - 0s 14ms/step - loss: 0.0029\n",
      "Epoch 19/25\n",
      "30/33 [==========================>...] - ETA: 0s - loss: 0.0024WARNING:tensorflow:Can save best model only with val_loss available, skipping.\n",
      "33/33 [==============================] - 0s 14ms/step - loss: 0.0024\n",
      "Epoch 20/25\n",
      "33/33 [==============================] - ETA: 0s - loss: 0.0021WARNING:tensorflow:Can save best model only with val_loss available, skipping.\n",
      "33/33 [==============================] - 0s 14ms/step - loss: 0.0021\n",
      "Epoch 21/25\n",
      "33/33 [==============================] - ETA: 0s - loss: 0.0023WARNING:tensorflow:Can save best model only with val_loss available, skipping.\n",
      "33/33 [==============================] - 0s 14ms/step - loss: 0.0023\n",
      "Epoch 22/25\n",
      "33/33 [==============================] - ETA: 0s - loss: 0.0022WARNING:tensorflow:Can save best model only with val_loss available, skipping.\n",
      "33/33 [==============================] - 0s 14ms/step - loss: 0.0022\n",
      "Epoch 23/25\n",
      "30/33 [==========================>...] - ETA: 0s - loss: 0.0020WARNING:tensorflow:Can save best model only with val_loss available, skipping.\n",
      "33/33 [==============================] - 0s 14ms/step - loss: 0.0021\n",
      "Epoch 24/25\n",
      "29/33 [=========================>....] - ETA: 0s - loss: 0.0017WARNING:tensorflow:Can save best model only with val_loss available, skipping.\n",
      "33/33 [==============================] - 0s 13ms/step - loss: 0.0019\n",
      "Epoch 25/25\n",
      "30/33 [==========================>...] - ETA: 0s - loss: 0.0023WARNING:tensorflow:Can save best model only with val_loss available, skipping.\n",
      "33/33 [==============================] - 0s 14ms/step - loss: 0.0022\n"
     ]
    },
    {
     "data": {
      "text/plain": [
       "<keras.callbacks.History at 0x19f6c630c70>"
      ]
     },
     "execution_count": 15,
     "metadata": {},
     "output_type": "execute_result"
    }
   ],
   "source": [
    "checkpointer = ModelCheckpoint(filepath = 'weights_best.hdf5', \n",
    "                               verbose = 2, \n",
    "                               save_best_only = True)\n",
    "\n",
    "model.fit(x_train, \n",
    "          y_train, \n",
    "          epochs=25, \n",
    "          batch_size = 32,\n",
    "          callbacks = [checkpointer])"
   ]
  },
  {
   "cell_type": "code",
   "execution_count": 36,
   "metadata": {},
   "outputs": [
    {
     "name": "stderr",
     "output_type": "stream",
     "text": [
      "C:\\Users\\wangz\\AppData\\Local\\Temp\\ipykernel_39040\\927232319.py:9: FutureWarning: The behavior of `series[i:j]` with an integer-dtype index is deprecated. In a future version, this will be treated as *label-based* indexing, consistent with e.g. `series[i]` lookups. To retain the old behavior, use `series.iloc[i:j]`. To get the future behavior, use `series.loc[i:j]`.\n",
      "  model_inputs = total_dataset[len(total_dataset) - len(test_data) - prediction_days:].values\n"
     ]
    }
   ],
   "source": [
    "test_data = load_data(company = COMPANY,\n",
    "                      start = START_DATE_TEST,\n",
    "                      end = dt.datetime.now())\n",
    "\n",
    "actual_prices = test_data['Close'].values\n",
    "\n",
    "total_dataset = pd.concat((data['Close'], test_data['Close']), axis=0)\n",
    "\n",
    "model_inputs = total_dataset[len(total_dataset) - len(test_data) - prediction_days:].values\n",
    "model_inputs = model_inputs.reshape(-1,1)\n",
    "model_inputs = scaler.transform(model_inputs)"
   ]
  },
  {
   "cell_type": "code",
   "execution_count": 37,
   "metadata": {},
   "outputs": [
    {
     "name": "stdout",
     "output_type": "stream",
     "text": [
      "4/4 [==============================] - 0s 15ms/step\n"
     ]
    }
   ],
   "source": [
    "x_test = []\n",
    "for x in range(prediction_days, len(model_inputs)):\n",
    "    x_test.append(model_inputs[x-prediction_days:x, 0])\n",
    "\n",
    "x_test = np.array(x_test)\n",
    "x_test = np.reshape(x_test, (x_test.shape[0], x_test.shape[1] ,1))\n",
    "\n",
    "predicted_prices = model.predict(x_test)\n",
    "predicted_prices = scaler.inverse_transform(predicted_prices)"
   ]
  },
  {
   "cell_type": "code",
   "execution_count": 18,
   "metadata": {},
   "outputs": [
    {
     "data": {
      "image/png": "[encoded data removed]",
      "text/plain": [
       "<Figure size 640x480 with 1 Axes>"
      ]
     },
     "metadata": {},
     "output_type": "display_data"
    }
   ],
   "source": [
    "plt.plot(actual_prices, color='black', label=f\"Actual {COMPANY} price\")\n",
    "plt.plot(predicted_prices, color= 'green', label=f\"predicted {COMPANY} price\")\n",
    "plt.title(f\"{COMPANY} share price\")\n",
    "plt.xlabel(\"time\")\n",
    "plt.ylabel(f\"{COMPANY} share price\")\n",
    "plt.legend()\n",
    "plt.show()"
   ]
  },
  {
   "cell_type": "code",
   "execution_count": 64,
   "metadata": {},
   "outputs": [
    {
     "data": {
      "text/plain": [
       "68"
      ]
     },
     "execution_count": 64,
     "metadata": {},
     "output_type": "execute_result"
    }
   ],
   "source": [
    "len(predicted_prices)"
   ]
  },
  {
   "cell_type": "code",
   "execution_count": 52,
   "metadata": {},
   "outputs": [
    {
     "name": "stdout",
     "output_type": "stream",
     "text": [
      "['2022-09-08T00:00:00.000000000' '2022-09-07T00:00:00.000000000'\n",
      " '2022-09-06T00:00:00.000000000' '2022-09-02T00:00:00.000000000'\n",
      " '2022-09-01T00:00:00.000000000' '2022-08-31T00:00:00.000000000'\n",
      " '2022-08-30T00:00:00.000000000' '2022-08-29T00:00:00.000000000'\n",
      " '2022-08-26T00:00:00.000000000' '2022-08-25T00:00:00.000000000'\n",
      " '2022-08-24T00:00:00.000000000' '2022-08-23T00:00:00.000000000'\n",
      " '2022-08-22T00:00:00.000000000' '2022-08-19T00:00:00.000000000'\n",
      " '2022-08-18T00:00:00.000000000' '2022-08-17T00:00:00.000000000'\n",
      " '2022-08-16T00:00:00.000000000' '2022-08-15T00:00:00.000000000'\n",
      " '2022-08-12T00:00:00.000000000' '2022-08-11T00:00:00.000000000'\n",
      " '2022-08-10T00:00:00.000000000' '2022-08-09T00:00:00.000000000'\n",
      " '2022-08-08T00:00:00.000000000' '2022-08-05T00:00:00.000000000'\n",
      " '2022-08-04T00:00:00.000000000' '2022-08-03T00:00:00.000000000'\n",
      " '2022-08-02T00:00:00.000000000' '2022-08-01T00:00:00.000000000'\n",
      " '2022-07-29T00:00:00.000000000' '2022-07-28T00:00:00.000000000'\n",
      " '2022-07-27T00:00:00.000000000' '2022-07-26T00:00:00.000000000'\n",
      " '2022-07-25T00:00:00.000000000' '2022-07-22T00:00:00.000000000'\n",
      " '2022-07-21T00:00:00.000000000' '2022-07-20T00:00:00.000000000'\n",
      " '2022-07-19T00:00:00.000000000' '2022-07-18T00:00:00.000000000'\n",
      " '2022-07-15T00:00:00.000000000' '2022-07-14T00:00:00.000000000'\n",
      " '2022-07-13T00:00:00.000000000' '2022-07-12T00:00:00.000000000'\n",
      " '2022-07-11T00:00:00.000000000' '2022-07-08T00:00:00.000000000'\n",
      " '2022-07-07T00:00:00.000000000' '2022-07-06T00:00:00.000000000'\n",
      " '2022-07-05T00:00:00.000000000' '2022-07-01T00:00:00.000000000'\n",
      " '2022-06-30T00:00:00.000000000' '2022-06-29T00:00:00.000000000'\n",
      " '2022-06-28T00:00:00.000000000' '2022-06-27T00:00:00.000000000'\n",
      " '2022-06-24T00:00:00.000000000' '2022-06-23T00:00:00.000000000'\n",
      " '2022-06-22T00:00:00.000000000' '2022-06-21T00:00:00.000000000'\n",
      " '2022-06-17T00:00:00.000000000' '2022-06-16T00:00:00.000000000'\n",
      " '2022-06-15T00:00:00.000000000' '2022-06-14T00:00:00.000000000'\n",
      " '2022-06-13T00:00:00.000000000' '2022-06-10T00:00:00.000000000'\n",
      " '2022-06-09T00:00:00.000000000' '2022-06-08T00:00:00.000000000'\n",
      " '2022-06-07T00:00:00.000000000' '2022-06-06T00:00:00.000000000'\n",
      " '2022-06-03T00:00:00.000000000' '2022-06-02T00:00:00.000000000'\n",
      " '2022-09-09T00:00:00.000000000' '2022-09-12T00:00:00.000000000'\n",
      " '2022-09-13T00:00:00.000000000' '2022-09-14T00:00:00.000000000'\n",
      " '2022-09-15T00:00:00.000000000' '2022-09-16T00:00:00.000000000'\n",
      " '2022-09-19T00:00:00.000000000' '2022-09-20T00:00:00.000000000'\n",
      " '2022-09-21T00:00:00.000000000' '2022-09-22T00:00:00.000000000'\n",
      " '2022-09-23T00:00:00.000000000' '2022-09-26T00:00:00.000000000'\n",
      " '2022-09-27T00:00:00.000000000' '2022-09-28T00:00:00.000000000'\n",
      " '2022-09-29T00:00:00.000000000' '2022-09-30T00:00:00.000000000'\n",
      " '2022-10-03T00:00:00.000000000' '2022-10-04T00:00:00.000000000'\n",
      " '2022-10-05T00:00:00.000000000' '2022-10-06T00:00:00.000000000'\n",
      " '2022-10-07T00:00:00.000000000' '2022-10-10T00:00:00.000000000'\n",
      " '2022-10-11T00:00:00.000000000' '2022-10-12T00:00:00.000000000'\n",
      " '2022-10-13T00:00:00.000000000' '2022-10-14T00:00:00.000000000'\n",
      " '2022-10-17T00:00:00.000000000' '2022-10-18T00:00:00.000000000'\n",
      " '2022-10-19T00:00:00.000000000' '2022-10-20T00:00:00.000000000'\n",
      " '2022-10-21T00:00:00.000000000' '2022-10-24T00:00:00.000000000'\n",
      " '2022-10-25T00:00:00.000000000' '2022-10-26T00:00:00.000000000']\n"
     ]
    }
   ],
   "source": [
    "test_data = load_data(company = \"AAPL\",\n",
    "                      start = START_DATE_TEST,\n",
    "                      end = dt.datetime.now())\n",
    "print(test_data['date'].values)"
   ]
  },
  {
   "cell_type": "code",
   "execution_count": 46,
   "metadata": {},
   "outputs": [],
   "source": [
    "def draw_stock_trade(COMPANY):\n",
    "    test_data = load_data(company = COMPANY,\n",
    "                      start = START_DATE_TEST,\n",
    "                      end = dt.datetime.now())\n",
    "\n",
    "    actual_prices = test_data['Close'].values\n",
    "\n",
    "    total_dataset = pd.concat((data['Close'], test_data['Close']), axis=0)\n",
    "\n",
    "    model_inputs = total_dataset[len(total_dataset) - len(test_data) - prediction_days:].values\n",
    "    model_inputs = model_inputs.reshape(-1,1)\n",
    "    model_inputs = scaler.transform(model_inputs)\n",
    "    x_test = []\n",
    "    for x in range(prediction_days, len(model_inputs)):\n",
    "        x_test.append(model_inputs[x-prediction_days:x, 0])\n",
    "\n",
    "    x_test = np.array(x_test)\n",
    "    x_test = np.reshape(x_test, (x_test.shape[0], x_test.shape[1] ,1))\n",
    "\n",
    "    predicted_prices = model.predict(x_test)\n",
    "    predicted_prices = scaler.inverse_transform(predicted_prices)\n",
    "\n",
    "    plt.plot(actual_prices, color='black', label=f\"Actual {COMPANY} price\")\n",
    "    plt.plot(predicted_prices, color= 'green', label=f\"predicted {COMPANY} price\")\n",
    "    plt.title(f\"{COMPANY} share price\")\n",
    "    plt.xlabel(\"time\")\n",
    "    plt.ylabel(f\"{COMPANY} share price\")\n",
    "    plt.legend()\n",
    "    plt.show()"
   ]
  },
  {
   "cell_type": "code",
   "execution_count": 53,
   "metadata": {},
   "outputs": [],
   "source": [
    "def get_stock_data(COMPANY):\n",
    "    test_data = load_data(company = COMPANY,\n",
    "                      start = START_DATE_TEST,\n",
    "                      end = dt.datetime.now())\n",
    "    actual_prices = test_data['Close'].values\n",
    "\n",
    "    total_dataset = pd.concat((data['Close'], test_data['Close']), axis=0)\n",
    "\n",
    "    model_inputs = total_dataset[len(total_dataset) - len(test_data) - prediction_days:].values\n",
    "    model_inputs = model_inputs.reshape(-1,1)\n",
    "    model_inputs = scaler.transform(model_inputs)\n",
    "    x_test = []\n",
    "    for x in range(prediction_days, len(model_inputs)):\n",
    "        x_test.append(model_inputs[x-prediction_days:x, 0])\n",
    "\n",
    "    x_test = np.array(x_test)\n",
    "    x_test = np.reshape(x_test, (x_test.shape[0], x_test.shape[1] ,1))\n",
    "\n",
    "    predicted_prices = model.predict(x_test)\n",
    "    predicted_prices = scaler.inverse_transform(predicted_prices)\n",
    "    dateList = test_data['date'].values\n",
    "    res = []\n",
    "    for i in range(len(dateList)):\n",
    "        temp = [COMPANY, dateList[i], predicted_prices[i], actual_prices[i]]\n",
    "        res.append(temp)\n",
    "    return res"
   ]
  },
  {
   "cell_type": "code",
   "execution_count": 54,
   "metadata": {},
   "outputs": [
    {
     "name": "stdout",
     "output_type": "stream",
     "text": [
      "4/4 [==============================] - 0s 18ms/step\n"
     ]
    },
    {
     "name": "stderr",
     "output_type": "stream",
     "text": [
      "C:\\Users\\wangz\\AppData\\Local\\Temp\\ipykernel_39040\\2529516299.py:9: FutureWarning: The behavior of `series[i:j]` with an integer-dtype index is deprecated. In a future version, this will be treated as *label-based* indexing, consistent with e.g. `series[i]` lookups. To retain the old behavior, use `series.iloc[i:j]`. To get the future behavior, use `series.loc[i:j]`.\n",
      "  model_inputs = total_dataset[len(total_dataset) - len(test_data) - prediction_days:].values\n"
     ]
    }
   ],
   "source": [
    "test = get_stock_data(\"AAPL\")"
   ]
  },
  {
   "cell_type": "code",
   "execution_count": 55,
   "metadata": {},
   "outputs": [
    {
     "data": {
      "image/png": "[encoded data removed]",
      "text/plain": [
       "<Figure size 640x480 with 1 Axes>"
      ]
     },
     "metadata": {},
     "output_type": "display_data"
    }
   ],
   "source": [
    "\n",
    "plt.plot([t[3] for t in test], color='black', label=f\"Actual {COMPANY} price\")\n",
    "plt.plot([t[2] for t in test], color= 'green', label=f\"predicted {COMPANY} price\")\n",
    "plt.title(f\"{COMPANY} share price\")\n",
    "plt.xlabel(\"time\")\n",
    "plt.ylabel(f\"{COMPANY} share price\")\n",
    "plt.legend()\n",
    "plt.show()"
   ]
  },
  {
   "cell_type": "code",
   "execution_count": 56,
   "metadata": {},
   "outputs": [],
   "source": [
    "companyList = df['ticker'].unique()"
   ]
  },
  {
   "cell_type": "code",
   "execution_count": 57,
   "metadata": {},
   "outputs": [
    {
     "data": {
      "text/plain": [
       "array(['AAPL', 'MSFT', 'AMZN', 'TSLA', 'GOOGL', 'GOOG', 'BRK.B', 'UNH',\n",
       "       'JNJ', 'XOM', 'PG', 'META', 'JPM', 'NVDA', 'V', 'HD', 'CVX',\n",
       "       'ABBV', 'MA', 'PFE', 'LLY', 'PEP', 'KO', 'BAC', 'MRK', 'COST',\n",
       "       'TMO', 'AVGO', 'WMT', 'DIS', 'MCD', 'ABT', 'DHR', 'CSCO', 'VZ',\n",
       "       'ACN', 'NEE', 'WFC', 'BMY', 'TXN', 'CRM', 'PM', 'CMCSA', 'QCOM',\n",
       "       'LIN', 'ADBE', 'CVS', 'COP', 'UNP', 'NKE', 'AMGN', 'RTX', 'UPS',\n",
       "       'LOW', 'HON', 'T', 'INTC', 'INTU', 'IBM', 'MDT', 'AMD', 'ELV',\n",
       "       'MS', 'SPGI', 'SCHW', 'AMT', 'GS', 'PYPL', 'NFLX', 'ORCL', 'LMT',\n",
       "       'SBUX', 'ADP', 'DE', 'BLK', 'CAT', 'C', 'CI', 'AXP', 'MDLZ', 'PLD',\n",
       "       'SO', 'TMUS', 'DUK', 'GILD', 'NOW', 'MMC', 'CB', 'REGN', 'MO',\n",
       "       'ADI', 'AMAT', 'BA', 'VRTX', 'TJX', 'PGR', 'TGT', 'GE', 'ZTS',\n",
       "       'NOC', 'SYK', 'ISRG', 'BDX', 'BRK-B'], dtype=object)"
      ]
     },
     "execution_count": 57,
     "metadata": {},
     "output_type": "execute_result"
    }
   ],
   "source": [
    "companyList"
   ]
  },
  {
   "cell_type": "code",
   "execution_count": 61,
   "metadata": {},
   "outputs": [],
   "source": [
    "def get_all_stock_data(companyList):\n",
    "    res = []\n",
    "    for company in companyList:\n",
    "        res += get_stock_data(company)\n",
    "    return res"
   ]
  },
  {
   "cell_type": "code",
   "execution_count": 60,
   "metadata": {},
   "outputs": [],
   "source": [
    "conn.close()"
   ]
  },
  {
   "cell_type": "code",
   "execution_count": 62,
   "metadata": {},
   "outputs": [
    {
     "name": "stdout",
     "output_type": "stream",
     "text": [
      "4/4 [==============================] - 0s 19ms/step\n",
      "1/4 [======>.......................] - ETA: 0s"
     ]
    },
    {
     "name": "stderr",
     "output_type": "stream",
     "text": [
      "C:\\Users\\wangz\\AppData\\Local\\Temp\\ipykernel_39040\\2529516299.py:9: FutureWarning: The behavior of `series[i:j]` with an integer-dtype index is deprecated. In a future version, this will be treated as *label-based* indexing, consistent with e.g. `series[i]` lookups. To retain the old behavior, use `series.iloc[i:j]`. To get the future behavior, use `series.loc[i:j]`.\n",
      "  model_inputs = total_dataset[len(total_dataset) - len(test_data) - prediction_days:].values\n",
      "C:\\Users\\wangz\\AppData\\Local\\Temp\\ipykernel_39040\\2529516299.py:9: FutureWarning: The behavior of `series[i:j]` with an integer-dtype index is deprecated. In a future version, this will be treated as *label-based* indexing, consistent with e.g. `series[i]` lookups. To retain the old behavior, use `series.iloc[i:j]`. To get the future behavior, use `series.loc[i:j]`.\n",
      "  model_inputs = total_dataset[len(total_dataset) - len(test_data) - prediction_days:].values\n"
     ]
    },
    {
     "name": "stdout",
     "output_type": "stream",
     "text": [
      "4/4 [==============================] - 0s 19ms/step\n",
      "4/4 [==============================] - 0s 18ms/step\n",
      "1/4 [======>.......................] - ETA: 0s"
     ]
    },
    {
     "name": "stderr",
     "output_type": "stream",
     "text": [
      "C:\\Users\\wangz\\AppData\\Local\\Temp\\ipykernel_39040\\2529516299.py:9: FutureWarning: The behavior of `series[i:j]` with an integer-dtype index is deprecated. In a future version, this will be treated as *label-based* indexing, consistent with e.g. `series[i]` lookups. To retain the old behavior, use `series.iloc[i:j]`. To get the future behavior, use `series.loc[i:j]`.\n",
      "  model_inputs = total_dataset[len(total_dataset) - len(test_data) - prediction_days:].values\n",
      "C:\\Users\\wangz\\AppData\\Local\\Temp\\ipykernel_39040\\2529516299.py:9: FutureWarning: The behavior of `series[i:j]` with an integer-dtype index is deprecated. In a future version, this will be treated as *label-based* indexing, consistent with e.g. `series[i]` lookups. To retain the old behavior, use `series.iloc[i:j]`. To get the future behavior, use `series.loc[i:j]`.\n",
      "  model_inputs = total_dataset[len(total_dataset) - len(test_data) - prediction_days:].values\n"
     ]
    },
    {
     "name": "stdout",
     "output_type": "stream",
     "text": [
      "4/4 [==============================] - 0s 18ms/step\n",
      "3/3 [==============================] - 0s 17ms/step\n",
      "1/4 [======>.......................] - ETA: 0s"
     ]
    },
    {
     "name": "stderr",
     "output_type": "stream",
     "text": [
      "C:\\Users\\wangz\\AppData\\Local\\Temp\\ipykernel_39040\\2529516299.py:9: FutureWarning: The behavior of `series[i:j]` with an integer-dtype index is deprecated. In a future version, this will be treated as *label-based* indexing, consistent with e.g. `series[i]` lookups. To retain the old behavior, use `series.iloc[i:j]`. To get the future behavior, use `series.loc[i:j]`.\n",
      "  model_inputs = total_dataset[len(total_dataset) - len(test_data) - prediction_days:].values\n",
      "C:\\Users\\wangz\\AppData\\Local\\Temp\\ipykernel_39040\\2529516299.py:9: FutureWarning: The behavior of `series[i:j]` with an integer-dtype index is deprecated. In a future version, this will be treated as *label-based* indexing, consistent with e.g. `series[i]` lookups. To retain the old behavior, use `series.iloc[i:j]`. To get the future behavior, use `series.loc[i:j]`.\n",
      "  model_inputs = total_dataset[len(total_dataset) - len(test_data) - prediction_days:].values\n"
     ]
    },
    {
     "name": "stdout",
     "output_type": "stream",
     "text": [
      "4/4 [==============================] - 0s 14ms/step\n",
      "3/3 [==============================] - 0s 15ms/step\n",
      "1/4 [======>.......................] - ETA: 0s"
     ]
    },
    {
     "name": "stderr",
     "output_type": "stream",
     "text": [
      "C:\\Users\\wangz\\AppData\\Local\\Temp\\ipykernel_39040\\2529516299.py:9: FutureWarning: The behavior of `series[i:j]` with an integer-dtype index is deprecated. In a future version, this will be treated as *label-based* indexing, consistent with e.g. `series[i]` lookups. To retain the old behavior, use `series.iloc[i:j]`. To get the future behavior, use `series.loc[i:j]`.\n",
      "  model_inputs = total_dataset[len(total_dataset) - len(test_data) - prediction_days:].values\n",
      "C:\\Users\\wangz\\AppData\\Local\\Temp\\ipykernel_39040\\2529516299.py:9: FutureWarning: The behavior of `series[i:j]` with an integer-dtype index is deprecated. In a future version, this will be treated as *label-based* indexing, consistent with e.g. `series[i]` lookups. To retain the old behavior, use `series.iloc[i:j]`. To get the future behavior, use `series.loc[i:j]`.\n",
      "  model_inputs = total_dataset[len(total_dataset) - len(test_data) - prediction_days:].values\n"
     ]
    },
    {
     "name": "stdout",
     "output_type": "stream",
     "text": [
      "4/4 [==============================] - 0s 15ms/step\n",
      "4/4 [==============================] - 0s 9ms/step\n",
      "1/4 [======>.......................] - ETA: 0s"
     ]
    },
    {
     "name": "stderr",
     "output_type": "stream",
     "text": [
      "C:\\Users\\wangz\\AppData\\Local\\Temp\\ipykernel_39040\\2529516299.py:9: FutureWarning: The behavior of `series[i:j]` with an integer-dtype index is deprecated. In a future version, this will be treated as *label-based* indexing, consistent with e.g. `series[i]` lookups. To retain the old behavior, use `series.iloc[i:j]`. To get the future behavior, use `series.loc[i:j]`.\n",
      "  model_inputs = total_dataset[len(total_dataset) - len(test_data) - prediction_days:].values\n",
      "C:\\Users\\wangz\\AppData\\Local\\Temp\\ipykernel_39040\\2529516299.py:9: FutureWarning: The behavior of `series[i:j]` with an integer-dtype index is deprecated. In a future version, this will be treated as *label-based* indexing, consistent with e.g. `series[i]` lookups. To retain the old behavior, use `series.iloc[i:j]`. To get the future behavior, use `series.loc[i:j]`.\n",
      "  model_inputs = total_dataset[len(total_dataset) - len(test_data) - prediction_days:].values\n"
     ]
    },
    {
     "name": "stdout",
     "output_type": "stream",
     "text": [
      "4/4 [==============================] - 0s 12ms/step\n",
      "4/4 [==============================] - 0s 12ms/step\n",
      "1/4 [======>.......................] - ETA: 0s"
     ]
    },
    {
     "name": "stderr",
     "output_type": "stream",
     "text": [
      "C:\\Users\\wangz\\AppData\\Local\\Temp\\ipykernel_39040\\2529516299.py:9: FutureWarning: The behavior of `series[i:j]` with an integer-dtype index is deprecated. In a future version, this will be treated as *label-based* indexing, consistent with e.g. `series[i]` lookups. To retain the old behavior, use `series.iloc[i:j]`. To get the future behavior, use `series.loc[i:j]`.\n",
      "  model_inputs = total_dataset[len(total_dataset) - len(test_data) - prediction_days:].values\n",
      "C:\\Users\\wangz\\AppData\\Local\\Temp\\ipykernel_39040\\2529516299.py:9: FutureWarning: The behavior of `series[i:j]` with an integer-dtype index is deprecated. In a future version, this will be treated as *label-based* indexing, consistent with e.g. `series[i]` lookups. To retain the old behavior, use `series.iloc[i:j]`. To get the future behavior, use `series.loc[i:j]`.\n",
      "  model_inputs = total_dataset[len(total_dataset) - len(test_data) - prediction_days:].values\n"
     ]
    },
    {
     "name": "stdout",
     "output_type": "stream",
     "text": [
      "4/4 [==============================] - 0s 11ms/step\n",
      "4/4 [==============================] - 0s 13ms/step\n",
      "1/4 [======>.......................] - ETA: 0s"
     ]
    },
    {
     "name": "stderr",
     "output_type": "stream",
     "text": [
      "C:\\Users\\wangz\\AppData\\Local\\Temp\\ipykernel_39040\\2529516299.py:9: FutureWarning: The behavior of `series[i:j]` with an integer-dtype index is deprecated. In a future version, this will be treated as *label-based* indexing, consistent with e.g. `series[i]` lookups. To retain the old behavior, use `series.iloc[i:j]`. To get the future behavior, use `series.loc[i:j]`.\n",
      "  model_inputs = total_dataset[len(total_dataset) - len(test_data) - prediction_days:].values\n",
      "C:\\Users\\wangz\\AppData\\Local\\Temp\\ipykernel_39040\\2529516299.py:9: FutureWarning: The behavior of `series[i:j]` with an integer-dtype index is deprecated. In a future version, this will be treated as *label-based* indexing, consistent with e.g. `series[i]` lookups. To retain the old behavior, use `series.iloc[i:j]`. To get the future behavior, use `series.loc[i:j]`.\n",
      "  model_inputs = total_dataset[len(total_dataset) - len(test_data) - prediction_days:].values\n"
     ]
    },
    {
     "name": "stdout",
     "output_type": "stream",
     "text": [
      "4/4 [==============================] - 0s 10ms/step\n",
      "4/4 [==============================] - 0s 10ms/step\n",
      "1/4 [======>.......................] - ETA: 0s"
     ]
    },
    {
     "name": "stderr",
     "output_type": "stream",
     "text": [
      "C:\\Users\\wangz\\AppData\\Local\\Temp\\ipykernel_39040\\2529516299.py:9: FutureWarning: The behavior of `series[i:j]` with an integer-dtype index is deprecated. In a future version, this will be treated as *label-based* indexing, consistent with e.g. `series[i]` lookups. To retain the old behavior, use `series.iloc[i:j]`. To get the future behavior, use `series.loc[i:j]`.\n",
      "  model_inputs = total_dataset[len(total_dataset) - len(test_data) - prediction_days:].values\n",
      "C:\\Users\\wangz\\AppData\\Local\\Temp\\ipykernel_39040\\2529516299.py:9: FutureWarning: The behavior of `series[i:j]` with an integer-dtype index is deprecated. In a future version, this will be treated as *label-based* indexing, consistent with e.g. `series[i]` lookups. To retain the old behavior, use `series.iloc[i:j]`. To get the future behavior, use `series.loc[i:j]`.\n",
      "  model_inputs = total_dataset[len(total_dataset) - len(test_data) - prediction_days:].values\n"
     ]
    },
    {
     "name": "stdout",
     "output_type": "stream",
     "text": [
      "4/4 [==============================] - 0s 11ms/step\n",
      "4/4 [==============================] - 0s 12ms/step\n",
      "1/3 [=========>....................] - ETA: 0s"
     ]
    },
    {
     "name": "stderr",
     "output_type": "stream",
     "text": [
      "C:\\Users\\wangz\\AppData\\Local\\Temp\\ipykernel_39040\\2529516299.py:9: FutureWarning: The behavior of `series[i:j]` with an integer-dtype index is deprecated. In a future version, this will be treated as *label-based* indexing, consistent with e.g. `series[i]` lookups. To retain the old behavior, use `series.iloc[i:j]`. To get the future behavior, use `series.loc[i:j]`.\n",
      "  model_inputs = total_dataset[len(total_dataset) - len(test_data) - prediction_days:].values\n",
      "C:\\Users\\wangz\\AppData\\Local\\Temp\\ipykernel_39040\\2529516299.py:9: FutureWarning: The behavior of `series[i:j]` with an integer-dtype index is deprecated. In a future version, this will be treated as *label-based* indexing, consistent with e.g. `series[i]` lookups. To retain the old behavior, use `series.iloc[i:j]`. To get the future behavior, use `series.loc[i:j]`.\n",
      "  model_inputs = total_dataset[len(total_dataset) - len(test_data) - prediction_days:].values\n"
     ]
    },
    {
     "name": "stdout",
     "output_type": "stream",
     "text": [
      "3/3 [==============================] - 0s 9ms/step\n",
      "4/4 [==============================] - 0s 11ms/step\n",
      "4/4 [==============================] - 0s 12ms/step\n"
     ]
    },
    {
     "name": "stderr",
     "output_type": "stream",
     "text": [
      "C:\\Users\\wangz\\AppData\\Local\\Temp\\ipykernel_39040\\2529516299.py:9: FutureWarning: The behavior of `series[i:j]` with an integer-dtype index is deprecated. In a future version, this will be treated as *label-based* indexing, consistent with e.g. `series[i]` lookups. To retain the old behavior, use `series.iloc[i:j]`. To get the future behavior, use `series.loc[i:j]`.\n",
      "  model_inputs = total_dataset[len(total_dataset) - len(test_data) - prediction_days:].values\n",
      "C:\\Users\\wangz\\AppData\\Local\\Temp\\ipykernel_39040\\2529516299.py:9: FutureWarning: The behavior of `series[i:j]` with an integer-dtype index is deprecated. In a future version, this will be treated as *label-based* indexing, consistent with e.g. `series[i]` lookups. To retain the old behavior, use `series.iloc[i:j]`. To get the future behavior, use `series.loc[i:j]`.\n",
      "  model_inputs = total_dataset[len(total_dataset) - len(test_data) - prediction_days:].values\n"
     ]
    },
    {
     "name": "stdout",
     "output_type": "stream",
     "text": [
      "4/4 [==============================] - 0s 10ms/step\n",
      "1/4 [======>.......................] - ETA: 0s"
     ]
    },
    {
     "name": "stderr",
     "output_type": "stream",
     "text": [
      "C:\\Users\\wangz\\AppData\\Local\\Temp\\ipykernel_39040\\2529516299.py:9: FutureWarning: The behavior of `series[i:j]` with an integer-dtype index is deprecated. In a future version, this will be treated as *label-based* indexing, consistent with e.g. `series[i]` lookups. To retain the old behavior, use `series.iloc[i:j]`. To get the future behavior, use `series.loc[i:j]`.\n",
      "  model_inputs = total_dataset[len(total_dataset) - len(test_data) - prediction_days:].values\n",
      "C:\\Users\\wangz\\AppData\\Local\\Temp\\ipykernel_39040\\2529516299.py:9: FutureWarning: The behavior of `series[i:j]` with an integer-dtype index is deprecated. In a future version, this will be treated as *label-based* indexing, consistent with e.g. `series[i]` lookups. To retain the old behavior, use `series.iloc[i:j]`. To get the future behavior, use `series.loc[i:j]`.\n",
      "  model_inputs = total_dataset[len(total_dataset) - len(test_data) - prediction_days:].values\n"
     ]
    },
    {
     "name": "stdout",
     "output_type": "stream",
     "text": [
      "4/4 [==============================] - 0s 12ms/step\n",
      "3/3 [==============================] - 0s 11ms/step\n",
      "3/3 [==============================] - 0s 10ms/step\n"
     ]
    },
    {
     "name": "stderr",
     "output_type": "stream",
     "text": [
      "C:\\Users\\wangz\\AppData\\Local\\Temp\\ipykernel_39040\\2529516299.py:9: FutureWarning: The behavior of `series[i:j]` with an integer-dtype index is deprecated. In a future version, this will be treated as *label-based* indexing, consistent with e.g. `series[i]` lookups. To retain the old behavior, use `series.iloc[i:j]`. To get the future behavior, use `series.loc[i:j]`.\n",
      "  model_inputs = total_dataset[len(total_dataset) - len(test_data) - prediction_days:].values\n",
      "C:\\Users\\wangz\\AppData\\Local\\Temp\\ipykernel_39040\\2529516299.py:9: FutureWarning: The behavior of `series[i:j]` with an integer-dtype index is deprecated. In a future version, this will be treated as *label-based* indexing, consistent with e.g. `series[i]` lookups. To retain the old behavior, use `series.iloc[i:j]`. To get the future behavior, use `series.loc[i:j]`.\n",
      "  model_inputs = total_dataset[len(total_dataset) - len(test_data) - prediction_days:].values\n"
     ]
    },
    {
     "name": "stdout",
     "output_type": "stream",
     "text": [
      "3/3 [==============================] - 0s 13ms/step\n",
      "3/3 [==============================] - 0s 12ms/step\n"
     ]
    },
    {
     "name": "stderr",
     "output_type": "stream",
     "text": [
      "C:\\Users\\wangz\\AppData\\Local\\Temp\\ipykernel_39040\\2529516299.py:9: FutureWarning: The behavior of `series[i:j]` with an integer-dtype index is deprecated. In a future version, this will be treated as *label-based* indexing, consistent with e.g. `series[i]` lookups. To retain the old behavior, use `series.iloc[i:j]`. To get the future behavior, use `series.loc[i:j]`.\n",
      "  model_inputs = total_dataset[len(total_dataset) - len(test_data) - prediction_days:].values\n",
      "C:\\Users\\wangz\\AppData\\Local\\Temp\\ipykernel_39040\\2529516299.py:9: FutureWarning: The behavior of `series[i:j]` with an integer-dtype index is deprecated. In a future version, this will be treated as *label-based* indexing, consistent with e.g. `series[i]` lookups. To retain the old behavior, use `series.iloc[i:j]`. To get the future behavior, use `series.loc[i:j]`.\n",
      "  model_inputs = total_dataset[len(total_dataset) - len(test_data) - prediction_days:].values\n"
     ]
    },
    {
     "name": "stdout",
     "output_type": "stream",
     "text": [
      "3/3 [==============================] - 0s 13ms/step\n",
      "3/3 [==============================] - 0s 12ms/step\n"
     ]
    },
    {
     "name": "stderr",
     "output_type": "stream",
     "text": [
      "C:\\Users\\wangz\\AppData\\Local\\Temp\\ipykernel_39040\\2529516299.py:9: FutureWarning: The behavior of `series[i:j]` with an integer-dtype index is deprecated. In a future version, this will be treated as *label-based* indexing, consistent with e.g. `series[i]` lookups. To retain the old behavior, use `series.iloc[i:j]`. To get the future behavior, use `series.loc[i:j]`.\n",
      "  model_inputs = total_dataset[len(total_dataset) - len(test_data) - prediction_days:].values\n",
      "C:\\Users\\wangz\\AppData\\Local\\Temp\\ipykernel_39040\\2529516299.py:9: FutureWarning: The behavior of `series[i:j]` with an integer-dtype index is deprecated. In a future version, this will be treated as *label-based* indexing, consistent with e.g. `series[i]` lookups. To retain the old behavior, use `series.iloc[i:j]`. To get the future behavior, use `series.loc[i:j]`.\n",
      "  model_inputs = total_dataset[len(total_dataset) - len(test_data) - prediction_days:].values\n"
     ]
    },
    {
     "name": "stdout",
     "output_type": "stream",
     "text": [
      "3/3 [==============================] - 0s 10ms/step\n",
      "3/3 [==============================] - 0s 11ms/step\n"
     ]
    },
    {
     "name": "stderr",
     "output_type": "stream",
     "text": [
      "C:\\Users\\wangz\\AppData\\Local\\Temp\\ipykernel_39040\\2529516299.py:9: FutureWarning: The behavior of `series[i:j]` with an integer-dtype index is deprecated. In a future version, this will be treated as *label-based* indexing, consistent with e.g. `series[i]` lookups. To retain the old behavior, use `series.iloc[i:j]`. To get the future behavior, use `series.loc[i:j]`.\n",
      "  model_inputs = total_dataset[len(total_dataset) - len(test_data) - prediction_days:].values\n",
      "C:\\Users\\wangz\\AppData\\Local\\Temp\\ipykernel_39040\\2529516299.py:9: FutureWarning: The behavior of `series[i:j]` with an integer-dtype index is deprecated. In a future version, this will be treated as *label-based* indexing, consistent with e.g. `series[i]` lookups. To retain the old behavior, use `series.iloc[i:j]`. To get the future behavior, use `series.loc[i:j]`.\n",
      "  model_inputs = total_dataset[len(total_dataset) - len(test_data) - prediction_days:].values\n"
     ]
    },
    {
     "name": "stdout",
     "output_type": "stream",
     "text": [
      "3/3 [==============================] - 0s 10ms/step\n",
      "3/3 [==============================] - 0s 13ms/step\n"
     ]
    },
    {
     "name": "stderr",
     "output_type": "stream",
     "text": [
      "C:\\Users\\wangz\\AppData\\Local\\Temp\\ipykernel_39040\\2529516299.py:9: FutureWarning: The behavior of `series[i:j]` with an integer-dtype index is deprecated. In a future version, this will be treated as *label-based* indexing, consistent with e.g. `series[i]` lookups. To retain the old behavior, use `series.iloc[i:j]`. To get the future behavior, use `series.loc[i:j]`.\n",
      "  model_inputs = total_dataset[len(total_dataset) - len(test_data) - prediction_days:].values\n",
      "C:\\Users\\wangz\\AppData\\Local\\Temp\\ipykernel_39040\\2529516299.py:9: FutureWarning: The behavior of `series[i:j]` with an integer-dtype index is deprecated. In a future version, this will be treated as *label-based* indexing, consistent with e.g. `series[i]` lookups. To retain the old behavior, use `series.iloc[i:j]`. To get the future behavior, use `series.loc[i:j]`.\n",
      "  model_inputs = total_dataset[len(total_dataset) - len(test_data) - prediction_days:].values\n"
     ]
    },
    {
     "name": "stdout",
     "output_type": "stream",
     "text": [
      "3/3 [==============================] - 0s 13ms/step\n",
      "1/3 [=========>....................] - ETA: 0s"
     ]
    },
    {
     "name": "stderr",
     "output_type": "stream",
     "text": [
      "C:\\Users\\wangz\\AppData\\Local\\Temp\\ipykernel_39040\\2529516299.py:9: FutureWarning: The behavior of `series[i:j]` with an integer-dtype index is deprecated. In a future version, this will be treated as *label-based* indexing, consistent with e.g. `series[i]` lookups. To retain the old behavior, use `series.iloc[i:j]`. To get the future behavior, use `series.loc[i:j]`.\n",
      "  model_inputs = total_dataset[len(total_dataset) - len(test_data) - prediction_days:].values\n",
      "C:\\Users\\wangz\\AppData\\Local\\Temp\\ipykernel_39040\\2529516299.py:9: FutureWarning: The behavior of `series[i:j]` with an integer-dtype index is deprecated. In a future version, this will be treated as *label-based* indexing, consistent with e.g. `series[i]` lookups. To retain the old behavior, use `series.iloc[i:j]`. To get the future behavior, use `series.loc[i:j]`.\n",
      "  model_inputs = total_dataset[len(total_dataset) - len(test_data) - prediction_days:].values\n"
     ]
    },
    {
     "name": "stdout",
     "output_type": "stream",
     "text": [
      "3/3 [==============================] - 0s 20ms/step\n",
      "3/3 [==============================] - 0s 10ms/step\n",
      "3/3 [==============================] - 0s 11ms/step\n"
     ]
    },
    {
     "name": "stderr",
     "output_type": "stream",
     "text": [
      "C:\\Users\\wangz\\AppData\\Local\\Temp\\ipykernel_39040\\2529516299.py:9: FutureWarning: The behavior of `series[i:j]` with an integer-dtype index is deprecated. In a future version, this will be treated as *label-based* indexing, consistent with e.g. `series[i]` lookups. To retain the old behavior, use `series.iloc[i:j]`. To get the future behavior, use `series.loc[i:j]`.\n",
      "  model_inputs = total_dataset[len(total_dataset) - len(test_data) - prediction_days:].values\n",
      "C:\\Users\\wangz\\AppData\\Local\\Temp\\ipykernel_39040\\2529516299.py:9: FutureWarning: The behavior of `series[i:j]` with an integer-dtype index is deprecated. In a future version, this will be treated as *label-based* indexing, consistent with e.g. `series[i]` lookups. To retain the old behavior, use `series.iloc[i:j]`. To get the future behavior, use `series.loc[i:j]`.\n",
      "  model_inputs = total_dataset[len(total_dataset) - len(test_data) - prediction_days:].values\n"
     ]
    },
    {
     "name": "stdout",
     "output_type": "stream",
     "text": [
      "3/3 [==============================] - 0s 11ms/step\n",
      "3/3 [==============================] - 0s 12ms/step\n"
     ]
    },
    {
     "name": "stderr",
     "output_type": "stream",
     "text": [
      "C:\\Users\\wangz\\AppData\\Local\\Temp\\ipykernel_39040\\2529516299.py:9: FutureWarning: The behavior of `series[i:j]` with an integer-dtype index is deprecated. In a future version, this will be treated as *label-based* indexing, consistent with e.g. `series[i]` lookups. To retain the old behavior, use `series.iloc[i:j]`. To get the future behavior, use `series.loc[i:j]`.\n",
      "  model_inputs = total_dataset[len(total_dataset) - len(test_data) - prediction_days:].values\n",
      "C:\\Users\\wangz\\AppData\\Local\\Temp\\ipykernel_39040\\2529516299.py:9: FutureWarning: The behavior of `series[i:j]` with an integer-dtype index is deprecated. In a future version, this will be treated as *label-based* indexing, consistent with e.g. `series[i]` lookups. To retain the old behavior, use `series.iloc[i:j]`. To get the future behavior, use `series.loc[i:j]`.\n",
      "  model_inputs = total_dataset[len(total_dataset) - len(test_data) - prediction_days:].values\n"
     ]
    },
    {
     "name": "stdout",
     "output_type": "stream",
     "text": [
      "3/3 [==============================] - 0s 13ms/step\n",
      "3/3 [==============================] - 0s 11ms/step\n"
     ]
    },
    {
     "name": "stderr",
     "output_type": "stream",
     "text": [
      "C:\\Users\\wangz\\AppData\\Local\\Temp\\ipykernel_39040\\2529516299.py:9: FutureWarning: The behavior of `series[i:j]` with an integer-dtype index is deprecated. In a future version, this will be treated as *label-based* indexing, consistent with e.g. `series[i]` lookups. To retain the old behavior, use `series.iloc[i:j]`. To get the future behavior, use `series.loc[i:j]`.\n",
      "  model_inputs = total_dataset[len(total_dataset) - len(test_data) - prediction_days:].values\n",
      "C:\\Users\\wangz\\AppData\\Local\\Temp\\ipykernel_39040\\2529516299.py:9: FutureWarning: The behavior of `series[i:j]` with an integer-dtype index is deprecated. In a future version, this will be treated as *label-based* indexing, consistent with e.g. `series[i]` lookups. To retain the old behavior, use `series.iloc[i:j]`. To get the future behavior, use `series.loc[i:j]`.\n",
      "  model_inputs = total_dataset[len(total_dataset) - len(test_data) - prediction_days:].values\n"
     ]
    },
    {
     "name": "stdout",
     "output_type": "stream",
     "text": [
      "3/3 [==============================] - 0s 12ms/step\n",
      "3/3 [==============================] - 0s 11ms/step\n"
     ]
    },
    {
     "name": "stderr",
     "output_type": "stream",
     "text": [
      "C:\\Users\\wangz\\AppData\\Local\\Temp\\ipykernel_39040\\2529516299.py:9: FutureWarning: The behavior of `series[i:j]` with an integer-dtype index is deprecated. In a future version, this will be treated as *label-based* indexing, consistent with e.g. `series[i]` lookups. To retain the old behavior, use `series.iloc[i:j]`. To get the future behavior, use `series.loc[i:j]`.\n",
      "  model_inputs = total_dataset[len(total_dataset) - len(test_data) - prediction_days:].values\n",
      "C:\\Users\\wangz\\AppData\\Local\\Temp\\ipykernel_39040\\2529516299.py:9: FutureWarning: The behavior of `series[i:j]` with an integer-dtype index is deprecated. In a future version, this will be treated as *label-based* indexing, consistent with e.g. `series[i]` lookups. To retain the old behavior, use `series.iloc[i:j]`. To get the future behavior, use `series.loc[i:j]`.\n",
      "  model_inputs = total_dataset[len(total_dataset) - len(test_data) - prediction_days:].values\n"
     ]
    },
    {
     "name": "stdout",
     "output_type": "stream",
     "text": [
      "3/3 [==============================] - 0s 11ms/step\n",
      "3/3 [==============================] - 0s 11ms/step\n"
     ]
    },
    {
     "name": "stderr",
     "output_type": "stream",
     "text": [
      "C:\\Users\\wangz\\AppData\\Local\\Temp\\ipykernel_39040\\2529516299.py:9: FutureWarning: The behavior of `series[i:j]` with an integer-dtype index is deprecated. In a future version, this will be treated as *label-based* indexing, consistent with e.g. `series[i]` lookups. To retain the old behavior, use `series.iloc[i:j]`. To get the future behavior, use `series.loc[i:j]`.\n",
      "  model_inputs = total_dataset[len(total_dataset) - len(test_data) - prediction_days:].values\n",
      "C:\\Users\\wangz\\AppData\\Local\\Temp\\ipykernel_39040\\2529516299.py:9: FutureWarning: The behavior of `series[i:j]` with an integer-dtype index is deprecated. In a future version, this will be treated as *label-based* indexing, consistent with e.g. `series[i]` lookups. To retain the old behavior, use `series.iloc[i:j]`. To get the future behavior, use `series.loc[i:j]`.\n",
      "  model_inputs = total_dataset[len(total_dataset) - len(test_data) - prediction_days:].values\n"
     ]
    },
    {
     "name": "stdout",
     "output_type": "stream",
     "text": [
      "3/3 [==============================] - 0s 11ms/step\n",
      "3/3 [==============================] - 0s 10ms/step\n"
     ]
    },
    {
     "name": "stderr",
     "output_type": "stream",
     "text": [
      "C:\\Users\\wangz\\AppData\\Local\\Temp\\ipykernel_39040\\2529516299.py:9: FutureWarning: The behavior of `series[i:j]` with an integer-dtype index is deprecated. In a future version, this will be treated as *label-based* indexing, consistent with e.g. `series[i]` lookups. To retain the old behavior, use `series.iloc[i:j]`. To get the future behavior, use `series.loc[i:j]`.\n",
      "  model_inputs = total_dataset[len(total_dataset) - len(test_data) - prediction_days:].values\n",
      "C:\\Users\\wangz\\AppData\\Local\\Temp\\ipykernel_39040\\2529516299.py:9: FutureWarning: The behavior of `series[i:j]` with an integer-dtype index is deprecated. In a future version, this will be treated as *label-based* indexing, consistent with e.g. `series[i]` lookups. To retain the old behavior, use `series.iloc[i:j]`. To get the future behavior, use `series.loc[i:j]`.\n",
      "  model_inputs = total_dataset[len(total_dataset) - len(test_data) - prediction_days:].values\n"
     ]
    },
    {
     "name": "stdout",
     "output_type": "stream",
     "text": [
      "3/3 [==============================] - 0s 11ms/step\n",
      "3/3 [==============================] - 0s 11ms/step\n"
     ]
    },
    {
     "name": "stderr",
     "output_type": "stream",
     "text": [
      "C:\\Users\\wangz\\AppData\\Local\\Temp\\ipykernel_39040\\2529516299.py:9: FutureWarning: The behavior of `series[i:j]` with an integer-dtype index is deprecated. In a future version, this will be treated as *label-based* indexing, consistent with e.g. `series[i]` lookups. To retain the old behavior, use `series.iloc[i:j]`. To get the future behavior, use `series.loc[i:j]`.\n",
      "  model_inputs = total_dataset[len(total_dataset) - len(test_data) - prediction_days:].values\n",
      "C:\\Users\\wangz\\AppData\\Local\\Temp\\ipykernel_39040\\2529516299.py:9: FutureWarning: The behavior of `series[i:j]` with an integer-dtype index is deprecated. In a future version, this will be treated as *label-based* indexing, consistent with e.g. `series[i]` lookups. To retain the old behavior, use `series.iloc[i:j]`. To get the future behavior, use `series.loc[i:j]`.\n",
      "  model_inputs = total_dataset[len(total_dataset) - len(test_data) - prediction_days:].values\n"
     ]
    },
    {
     "name": "stdout",
     "output_type": "stream",
     "text": [
      "3/3 [==============================] - 0s 9ms/step\n",
      "3/3 [==============================] - 0s 15ms/step\n"
     ]
    },
    {
     "name": "stderr",
     "output_type": "stream",
     "text": [
      "C:\\Users\\wangz\\AppData\\Local\\Temp\\ipykernel_39040\\2529516299.py:9: FutureWarning: The behavior of `series[i:j]` with an integer-dtype index is deprecated. In a future version, this will be treated as *label-based* indexing, consistent with e.g. `series[i]` lookups. To retain the old behavior, use `series.iloc[i:j]`. To get the future behavior, use `series.loc[i:j]`.\n",
      "  model_inputs = total_dataset[len(total_dataset) - len(test_data) - prediction_days:].values\n",
      "C:\\Users\\wangz\\AppData\\Local\\Temp\\ipykernel_39040\\2529516299.py:9: FutureWarning: The behavior of `series[i:j]` with an integer-dtype index is deprecated. In a future version, this will be treated as *label-based* indexing, consistent with e.g. `series[i]` lookups. To retain the old behavior, use `series.iloc[i:j]`. To get the future behavior, use `series.loc[i:j]`.\n",
      "  model_inputs = total_dataset[len(total_dataset) - len(test_data) - prediction_days:].values\n"
     ]
    },
    {
     "name": "stdout",
     "output_type": "stream",
     "text": [
      "3/3 [==============================] - 0s 14ms/step\n",
      "3/3 [==============================] - 0s 14ms/step\n"
     ]
    },
    {
     "name": "stderr",
     "output_type": "stream",
     "text": [
      "C:\\Users\\wangz\\AppData\\Local\\Temp\\ipykernel_39040\\2529516299.py:9: FutureWarning: The behavior of `series[i:j]` with an integer-dtype index is deprecated. In a future version, this will be treated as *label-based* indexing, consistent with e.g. `series[i]` lookups. To retain the old behavior, use `series.iloc[i:j]`. To get the future behavior, use `series.loc[i:j]`.\n",
      "  model_inputs = total_dataset[len(total_dataset) - len(test_data) - prediction_days:].values\n",
      "C:\\Users\\wangz\\AppData\\Local\\Temp\\ipykernel_39040\\2529516299.py:9: FutureWarning: The behavior of `series[i:j]` with an integer-dtype index is deprecated. In a future version, this will be treated as *label-based* indexing, consistent with e.g. `series[i]` lookups. To retain the old behavior, use `series.iloc[i:j]`. To get the future behavior, use `series.loc[i:j]`.\n",
      "  model_inputs = total_dataset[len(total_dataset) - len(test_data) - prediction_days:].values\n"
     ]
    },
    {
     "name": "stdout",
     "output_type": "stream",
     "text": [
      "3/3 [==============================] - 0s 13ms/step\n",
      "3/3 [==============================] - 0s 11ms/step\n"
     ]
    },
    {
     "name": "stderr",
     "output_type": "stream",
     "text": [
      "C:\\Users\\wangz\\AppData\\Local\\Temp\\ipykernel_39040\\2529516299.py:9: FutureWarning: The behavior of `series[i:j]` with an integer-dtype index is deprecated. In a future version, this will be treated as *label-based* indexing, consistent with e.g. `series[i]` lookups. To retain the old behavior, use `series.iloc[i:j]`. To get the future behavior, use `series.loc[i:j]`.\n",
      "  model_inputs = total_dataset[len(total_dataset) - len(test_data) - prediction_days:].values\n",
      "C:\\Users\\wangz\\AppData\\Local\\Temp\\ipykernel_39040\\2529516299.py:9: FutureWarning: The behavior of `series[i:j]` with an integer-dtype index is deprecated. In a future version, this will be treated as *label-based* indexing, consistent with e.g. `series[i]` lookups. To retain the old behavior, use `series.iloc[i:j]`. To get the future behavior, use `series.loc[i:j]`.\n",
      "  model_inputs = total_dataset[len(total_dataset) - len(test_data) - prediction_days:].values\n"
     ]
    },
    {
     "name": "stdout",
     "output_type": "stream",
     "text": [
      "3/3 [==============================] - 0s 12ms/step\n",
      "3/3 [==============================] - 0s 11ms/step\n"
     ]
    },
    {
     "name": "stderr",
     "output_type": "stream",
     "text": [
      "C:\\Users\\wangz\\AppData\\Local\\Temp\\ipykernel_39040\\2529516299.py:9: FutureWarning: The behavior of `series[i:j]` with an integer-dtype index is deprecated. In a future version, this will be treated as *label-based* indexing, consistent with e.g. `series[i]` lookups. To retain the old behavior, use `series.iloc[i:j]`. To get the future behavior, use `series.loc[i:j]`.\n",
      "  model_inputs = total_dataset[len(total_dataset) - len(test_data) - prediction_days:].values\n",
      "C:\\Users\\wangz\\AppData\\Local\\Temp\\ipykernel_39040\\2529516299.py:9: FutureWarning: The behavior of `series[i:j]` with an integer-dtype index is deprecated. In a future version, this will be treated as *label-based* indexing, consistent with e.g. `series[i]` lookups. To retain the old behavior, use `series.iloc[i:j]`. To get the future behavior, use `series.loc[i:j]`.\n",
      "  model_inputs = total_dataset[len(total_dataset) - len(test_data) - prediction_days:].values\n"
     ]
    },
    {
     "name": "stdout",
     "output_type": "stream",
     "text": [
      "3/3 [==============================] - 0s 12ms/step\n",
      "3/3 [==============================] - 0s 12ms/step\n"
     ]
    },
    {
     "name": "stderr",
     "output_type": "stream",
     "text": [
      "C:\\Users\\wangz\\AppData\\Local\\Temp\\ipykernel_39040\\2529516299.py:9: FutureWarning: The behavior of `series[i:j]` with an integer-dtype index is deprecated. In a future version, this will be treated as *label-based* indexing, consistent with e.g. `series[i]` lookups. To retain the old behavior, use `series.iloc[i:j]`. To get the future behavior, use `series.loc[i:j]`.\n",
      "  model_inputs = total_dataset[len(total_dataset) - len(test_data) - prediction_days:].values\n",
      "C:\\Users\\wangz\\AppData\\Local\\Temp\\ipykernel_39040\\2529516299.py:9: FutureWarning: The behavior of `series[i:j]` with an integer-dtype index is deprecated. In a future version, this will be treated as *label-based* indexing, consistent with e.g. `series[i]` lookups. To retain the old behavior, use `series.iloc[i:j]`. To get the future behavior, use `series.loc[i:j]`.\n",
      "  model_inputs = total_dataset[len(total_dataset) - len(test_data) - prediction_days:].values\n"
     ]
    },
    {
     "name": "stdout",
     "output_type": "stream",
     "text": [
      "3/3 [==============================] - 0s 10ms/step\n",
      "3/3 [==============================] - 0s 13ms/step\n"
     ]
    },
    {
     "name": "stderr",
     "output_type": "stream",
     "text": [
      "C:\\Users\\wangz\\AppData\\Local\\Temp\\ipykernel_39040\\2529516299.py:9: FutureWarning: The behavior of `series[i:j]` with an integer-dtype index is deprecated. In a future version, this will be treated as *label-based* indexing, consistent with e.g. `series[i]` lookups. To retain the old behavior, use `series.iloc[i:j]`. To get the future behavior, use `series.loc[i:j]`.\n",
      "  model_inputs = total_dataset[len(total_dataset) - len(test_data) - prediction_days:].values\n",
      "C:\\Users\\wangz\\AppData\\Local\\Temp\\ipykernel_39040\\2529516299.py:9: FutureWarning: The behavior of `series[i:j]` with an integer-dtype index is deprecated. In a future version, this will be treated as *label-based* indexing, consistent with e.g. `series[i]` lookups. To retain the old behavior, use `series.iloc[i:j]`. To get the future behavior, use `series.loc[i:j]`.\n",
      "  model_inputs = total_dataset[len(total_dataset) - len(test_data) - prediction_days:].values\n"
     ]
    },
    {
     "name": "stdout",
     "output_type": "stream",
     "text": [
      "3/3 [==============================] - 0s 13ms/step\n",
      "3/3 [==============================] - 0s 13ms/step\n"
     ]
    },
    {
     "name": "stderr",
     "output_type": "stream",
     "text": [
      "C:\\Users\\wangz\\AppData\\Local\\Temp\\ipykernel_39040\\2529516299.py:9: FutureWarning: The behavior of `series[i:j]` with an integer-dtype index is deprecated. In a future version, this will be treated as *label-based* indexing, consistent with e.g. `series[i]` lookups. To retain the old behavior, use `series.iloc[i:j]`. To get the future behavior, use `series.loc[i:j]`.\n",
      "  model_inputs = total_dataset[len(total_dataset) - len(test_data) - prediction_days:].values\n",
      "C:\\Users\\wangz\\AppData\\Local\\Temp\\ipykernel_39040\\2529516299.py:9: FutureWarning: The behavior of `series[i:j]` with an integer-dtype index is deprecated. In a future version, this will be treated as *label-based* indexing, consistent with e.g. `series[i]` lookups. To retain the old behavior, use `series.iloc[i:j]`. To get the future behavior, use `series.loc[i:j]`.\n",
      "  model_inputs = total_dataset[len(total_dataset) - len(test_data) - prediction_days:].values\n"
     ]
    },
    {
     "name": "stdout",
     "output_type": "stream",
     "text": [
      "3/3 [==============================] - 0s 11ms/step\n",
      "3/3 [==============================] - 0s 10ms/step\n"
     ]
    },
    {
     "name": "stderr",
     "output_type": "stream",
     "text": [
      "C:\\Users\\wangz\\AppData\\Local\\Temp\\ipykernel_39040\\2529516299.py:9: FutureWarning: The behavior of `series[i:j]` with an integer-dtype index is deprecated. In a future version, this will be treated as *label-based* indexing, consistent with e.g. `series[i]` lookups. To retain the old behavior, use `series.iloc[i:j]`. To get the future behavior, use `series.loc[i:j]`.\n",
      "  model_inputs = total_dataset[len(total_dataset) - len(test_data) - prediction_days:].values\n",
      "C:\\Users\\wangz\\AppData\\Local\\Temp\\ipykernel_39040\\2529516299.py:9: FutureWarning: The behavior of `series[i:j]` with an integer-dtype index is deprecated. In a future version, this will be treated as *label-based* indexing, consistent with e.g. `series[i]` lookups. To retain the old behavior, use `series.iloc[i:j]`. To get the future behavior, use `series.loc[i:j]`.\n",
      "  model_inputs = total_dataset[len(total_dataset) - len(test_data) - prediction_days:].values\n"
     ]
    },
    {
     "name": "stdout",
     "output_type": "stream",
     "text": [
      "3/3 [==============================] - 0s 12ms/step\n",
      "3/3 [==============================] - 0s 12ms/step\n"
     ]
    },
    {
     "name": "stderr",
     "output_type": "stream",
     "text": [
      "C:\\Users\\wangz\\AppData\\Local\\Temp\\ipykernel_39040\\2529516299.py:9: FutureWarning: The behavior of `series[i:j]` with an integer-dtype index is deprecated. In a future version, this will be treated as *label-based* indexing, consistent with e.g. `series[i]` lookups. To retain the old behavior, use `series.iloc[i:j]`. To get the future behavior, use `series.loc[i:j]`.\n",
      "  model_inputs = total_dataset[len(total_dataset) - len(test_data) - prediction_days:].values\n",
      "C:\\Users\\wangz\\AppData\\Local\\Temp\\ipykernel_39040\\2529516299.py:9: FutureWarning: The behavior of `series[i:j]` with an integer-dtype index is deprecated. In a future version, this will be treated as *label-based* indexing, consistent with e.g. `series[i]` lookups. To retain the old behavior, use `series.iloc[i:j]`. To get the future behavior, use `series.loc[i:j]`.\n",
      "  model_inputs = total_dataset[len(total_dataset) - len(test_data) - prediction_days:].values\n"
     ]
    },
    {
     "name": "stdout",
     "output_type": "stream",
     "text": [
      "3/3 [==============================] - 0s 14ms/step\n",
      "3/3 [==============================] - 0s 15ms/step\n"
     ]
    },
    {
     "name": "stderr",
     "output_type": "stream",
     "text": [
      "C:\\Users\\wangz\\AppData\\Local\\Temp\\ipykernel_39040\\2529516299.py:9: FutureWarning: The behavior of `series[i:j]` with an integer-dtype index is deprecated. In a future version, this will be treated as *label-based* indexing, consistent with e.g. `series[i]` lookups. To retain the old behavior, use `series.iloc[i:j]`. To get the future behavior, use `series.loc[i:j]`.\n",
      "  model_inputs = total_dataset[len(total_dataset) - len(test_data) - prediction_days:].values\n",
      "C:\\Users\\wangz\\AppData\\Local\\Temp\\ipykernel_39040\\2529516299.py:9: FutureWarning: The behavior of `series[i:j]` with an integer-dtype index is deprecated. In a future version, this will be treated as *label-based* indexing, consistent with e.g. `series[i]` lookups. To retain the old behavior, use `series.iloc[i:j]`. To get the future behavior, use `series.loc[i:j]`.\n",
      "  model_inputs = total_dataset[len(total_dataset) - len(test_data) - prediction_days:].values\n"
     ]
    },
    {
     "name": "stdout",
     "output_type": "stream",
     "text": [
      "3/3 [==============================] - 0s 14ms/step\n",
      "3/3 [==============================] - 0s 13ms/step\n"
     ]
    },
    {
     "name": "stderr",
     "output_type": "stream",
     "text": [
      "C:\\Users\\wangz\\AppData\\Local\\Temp\\ipykernel_39040\\2529516299.py:9: FutureWarning: The behavior of `series[i:j]` with an integer-dtype index is deprecated. In a future version, this will be treated as *label-based* indexing, consistent with e.g. `series[i]` lookups. To retain the old behavior, use `series.iloc[i:j]`. To get the future behavior, use `series.loc[i:j]`.\n",
      "  model_inputs = total_dataset[len(total_dataset) - len(test_data) - prediction_days:].values\n",
      "C:\\Users\\wangz\\AppData\\Local\\Temp\\ipykernel_39040\\2529516299.py:9: FutureWarning: The behavior of `series[i:j]` with an integer-dtype index is deprecated. In a future version, this will be treated as *label-based* indexing, consistent with e.g. `series[i]` lookups. To retain the old behavior, use `series.iloc[i:j]`. To get the future behavior, use `series.loc[i:j]`.\n",
      "  model_inputs = total_dataset[len(total_dataset) - len(test_data) - prediction_days:].values\n"
     ]
    },
    {
     "name": "stdout",
     "output_type": "stream",
     "text": [
      "3/3 [==============================] - 0s 16ms/step\n",
      "3/3 [==============================] - 0s 15ms/step\n"
     ]
    },
    {
     "name": "stderr",
     "output_type": "stream",
     "text": [
      "C:\\Users\\wangz\\AppData\\Local\\Temp\\ipykernel_39040\\2529516299.py:9: FutureWarning: The behavior of `series[i:j]` with an integer-dtype index is deprecated. In a future version, this will be treated as *label-based* indexing, consistent with e.g. `series[i]` lookups. To retain the old behavior, use `series.iloc[i:j]`. To get the future behavior, use `series.loc[i:j]`.\n",
      "  model_inputs = total_dataset[len(total_dataset) - len(test_data) - prediction_days:].values\n",
      "C:\\Users\\wangz\\AppData\\Local\\Temp\\ipykernel_39040\\2529516299.py:9: FutureWarning: The behavior of `series[i:j]` with an integer-dtype index is deprecated. In a future version, this will be treated as *label-based* indexing, consistent with e.g. `series[i]` lookups. To retain the old behavior, use `series.iloc[i:j]`. To get the future behavior, use `series.loc[i:j]`.\n",
      "  model_inputs = total_dataset[len(total_dataset) - len(test_data) - prediction_days:].values\n"
     ]
    },
    {
     "name": "stdout",
     "output_type": "stream",
     "text": [
      "3/3 [==============================] - 0s 13ms/step\n",
      "3/3 [==============================] - 0s 15ms/step\n"
     ]
    },
    {
     "name": "stderr",
     "output_type": "stream",
     "text": [
      "C:\\Users\\wangz\\AppData\\Local\\Temp\\ipykernel_39040\\2529516299.py:9: FutureWarning: The behavior of `series[i:j]` with an integer-dtype index is deprecated. In a future version, this will be treated as *label-based* indexing, consistent with e.g. `series[i]` lookups. To retain the old behavior, use `series.iloc[i:j]`. To get the future behavior, use `series.loc[i:j]`.\n",
      "  model_inputs = total_dataset[len(total_dataset) - len(test_data) - prediction_days:].values\n",
      "C:\\Users\\wangz\\AppData\\Local\\Temp\\ipykernel_39040\\2529516299.py:9: FutureWarning: The behavior of `series[i:j]` with an integer-dtype index is deprecated. In a future version, this will be treated as *label-based* indexing, consistent with e.g. `series[i]` lookups. To retain the old behavior, use `series.iloc[i:j]`. To get the future behavior, use `series.loc[i:j]`.\n",
      "  model_inputs = total_dataset[len(total_dataset) - len(test_data) - prediction_days:].values\n"
     ]
    },
    {
     "name": "stdout",
     "output_type": "stream",
     "text": [
      "3/3 [==============================] - 0s 14ms/step\n",
      "3/3 [==============================] - 0s 15ms/step\n"
     ]
    },
    {
     "name": "stderr",
     "output_type": "stream",
     "text": [
      "C:\\Users\\wangz\\AppData\\Local\\Temp\\ipykernel_39040\\2529516299.py:9: FutureWarning: The behavior of `series[i:j]` with an integer-dtype index is deprecated. In a future version, this will be treated as *label-based* indexing, consistent with e.g. `series[i]` lookups. To retain the old behavior, use `series.iloc[i:j]`. To get the future behavior, use `series.loc[i:j]`.\n",
      "  model_inputs = total_dataset[len(total_dataset) - len(test_data) - prediction_days:].values\n",
      "C:\\Users\\wangz\\AppData\\Local\\Temp\\ipykernel_39040\\2529516299.py:9: FutureWarning: The behavior of `series[i:j]` with an integer-dtype index is deprecated. In a future version, this will be treated as *label-based* indexing, consistent with e.g. `series[i]` lookups. To retain the old behavior, use `series.iloc[i:j]`. To get the future behavior, use `series.loc[i:j]`.\n",
      "  model_inputs = total_dataset[len(total_dataset) - len(test_data) - prediction_days:].values\n"
     ]
    },
    {
     "name": "stdout",
     "output_type": "stream",
     "text": [
      "3/3 [==============================] - 0s 15ms/step\n",
      "3/3 [==============================] - 0s 14ms/step\n"
     ]
    },
    {
     "name": "stderr",
     "output_type": "stream",
     "text": [
      "C:\\Users\\wangz\\AppData\\Local\\Temp\\ipykernel_39040\\2529516299.py:9: FutureWarning: The behavior of `series[i:j]` with an integer-dtype index is deprecated. In a future version, this will be treated as *label-based* indexing, consistent with e.g. `series[i]` lookups. To retain the old behavior, use `series.iloc[i:j]`. To get the future behavior, use `series.loc[i:j]`.\n",
      "  model_inputs = total_dataset[len(total_dataset) - len(test_data) - prediction_days:].values\n",
      "C:\\Users\\wangz\\AppData\\Local\\Temp\\ipykernel_39040\\2529516299.py:9: FutureWarning: The behavior of `series[i:j]` with an integer-dtype index is deprecated. In a future version, this will be treated as *label-based* indexing, consistent with e.g. `series[i]` lookups. To retain the old behavior, use `series.iloc[i:j]`. To get the future behavior, use `series.loc[i:j]`.\n",
      "  model_inputs = total_dataset[len(total_dataset) - len(test_data) - prediction_days:].values\n"
     ]
    },
    {
     "name": "stdout",
     "output_type": "stream",
     "text": [
      "3/3 [==============================] - 0s 12ms/step\n",
      "3/3 [==============================] - 0s 16ms/step\n"
     ]
    },
    {
     "name": "stderr",
     "output_type": "stream",
     "text": [
      "C:\\Users\\wangz\\AppData\\Local\\Temp\\ipykernel_39040\\2529516299.py:9: FutureWarning: The behavior of `series[i:j]` with an integer-dtype index is deprecated. In a future version, this will be treated as *label-based* indexing, consistent with e.g. `series[i]` lookups. To retain the old behavior, use `series.iloc[i:j]`. To get the future behavior, use `series.loc[i:j]`.\n",
      "  model_inputs = total_dataset[len(total_dataset) - len(test_data) - prediction_days:].values\n",
      "C:\\Users\\wangz\\AppData\\Local\\Temp\\ipykernel_39040\\2529516299.py:9: FutureWarning: The behavior of `series[i:j]` with an integer-dtype index is deprecated. In a future version, this will be treated as *label-based* indexing, consistent with e.g. `series[i]` lookups. To retain the old behavior, use `series.iloc[i:j]`. To get the future behavior, use `series.loc[i:j]`.\n",
      "  model_inputs = total_dataset[len(total_dataset) - len(test_data) - prediction_days:].values\n"
     ]
    },
    {
     "name": "stdout",
     "output_type": "stream",
     "text": [
      "3/3 [==============================] - 0s 12ms/step\n",
      "3/3 [==============================] - 0s 14ms/step\n"
     ]
    },
    {
     "name": "stderr",
     "output_type": "stream",
     "text": [
      "C:\\Users\\wangz\\AppData\\Local\\Temp\\ipykernel_39040\\2529516299.py:9: FutureWarning: The behavior of `series[i:j]` with an integer-dtype index is deprecated. In a future version, this will be treated as *label-based* indexing, consistent with e.g. `series[i]` lookups. To retain the old behavior, use `series.iloc[i:j]`. To get the future behavior, use `series.loc[i:j]`.\n",
      "  model_inputs = total_dataset[len(total_dataset) - len(test_data) - prediction_days:].values\n",
      "C:\\Users\\wangz\\AppData\\Local\\Temp\\ipykernel_39040\\2529516299.py:9: FutureWarning: The behavior of `series[i:j]` with an integer-dtype index is deprecated. In a future version, this will be treated as *label-based* indexing, consistent with e.g. `series[i]` lookups. To retain the old behavior, use `series.iloc[i:j]`. To get the future behavior, use `series.loc[i:j]`.\n",
      "  model_inputs = total_dataset[len(total_dataset) - len(test_data) - prediction_days:].values\n"
     ]
    },
    {
     "name": "stdout",
     "output_type": "stream",
     "text": [
      "3/3 [==============================] - 0s 13ms/step\n",
      "3/3 [==============================] - 0s 13ms/step\n"
     ]
    },
    {
     "name": "stderr",
     "output_type": "stream",
     "text": [
      "C:\\Users\\wangz\\AppData\\Local\\Temp\\ipykernel_39040\\2529516299.py:9: FutureWarning: The behavior of `series[i:j]` with an integer-dtype index is deprecated. In a future version, this will be treated as *label-based* indexing, consistent with e.g. `series[i]` lookups. To retain the old behavior, use `series.iloc[i:j]`. To get the future behavior, use `series.loc[i:j]`.\n",
      "  model_inputs = total_dataset[len(total_dataset) - len(test_data) - prediction_days:].values\n",
      "C:\\Users\\wangz\\AppData\\Local\\Temp\\ipykernel_39040\\2529516299.py:9: FutureWarning: The behavior of `series[i:j]` with an integer-dtype index is deprecated. In a future version, this will be treated as *label-based* indexing, consistent with e.g. `series[i]` lookups. To retain the old behavior, use `series.iloc[i:j]`. To get the future behavior, use `series.loc[i:j]`.\n",
      "  model_inputs = total_dataset[len(total_dataset) - len(test_data) - prediction_days:].values\n"
     ]
    },
    {
     "name": "stdout",
     "output_type": "stream",
     "text": [
      "3/3 [==============================] - 0s 16ms/step\n",
      "3/3 [==============================] - 0s 15ms/step\n"
     ]
    },
    {
     "name": "stderr",
     "output_type": "stream",
     "text": [
      "C:\\Users\\wangz\\AppData\\Local\\Temp\\ipykernel_39040\\2529516299.py:9: FutureWarning: The behavior of `series[i:j]` with an integer-dtype index is deprecated. In a future version, this will be treated as *label-based* indexing, consistent with e.g. `series[i]` lookups. To retain the old behavior, use `series.iloc[i:j]`. To get the future behavior, use `series.loc[i:j]`.\n",
      "  model_inputs = total_dataset[len(total_dataset) - len(test_data) - prediction_days:].values\n",
      "C:\\Users\\wangz\\AppData\\Local\\Temp\\ipykernel_39040\\2529516299.py:9: FutureWarning: The behavior of `series[i:j]` with an integer-dtype index is deprecated. In a future version, this will be treated as *label-based* indexing, consistent with e.g. `series[i]` lookups. To retain the old behavior, use `series.iloc[i:j]`. To get the future behavior, use `series.loc[i:j]`.\n",
      "  model_inputs = total_dataset[len(total_dataset) - len(test_data) - prediction_days:].values\n"
     ]
    },
    {
     "name": "stdout",
     "output_type": "stream",
     "text": [
      "3/3 [==============================] - 0s 15ms/step\n",
      "3/3 [==============================] - 0s 13ms/step\n"
     ]
    },
    {
     "name": "stderr",
     "output_type": "stream",
     "text": [
      "C:\\Users\\wangz\\AppData\\Local\\Temp\\ipykernel_39040\\2529516299.py:9: FutureWarning: The behavior of `series[i:j]` with an integer-dtype index is deprecated. In a future version, this will be treated as *label-based* indexing, consistent with e.g. `series[i]` lookups. To retain the old behavior, use `series.iloc[i:j]`. To get the future behavior, use `series.loc[i:j]`.\n",
      "  model_inputs = total_dataset[len(total_dataset) - len(test_data) - prediction_days:].values\n",
      "C:\\Users\\wangz\\AppData\\Local\\Temp\\ipykernel_39040\\2529516299.py:9: FutureWarning: The behavior of `series[i:j]` with an integer-dtype index is deprecated. In a future version, this will be treated as *label-based* indexing, consistent with e.g. `series[i]` lookups. To retain the old behavior, use `series.iloc[i:j]`. To get the future behavior, use `series.loc[i:j]`.\n",
      "  model_inputs = total_dataset[len(total_dataset) - len(test_data) - prediction_days:].values\n"
     ]
    },
    {
     "name": "stdout",
     "output_type": "stream",
     "text": [
      "3/3 [==============================] - 0s 13ms/step\n",
      "3/3 [==============================] - 0s 14ms/step\n"
     ]
    },
    {
     "name": "stderr",
     "output_type": "stream",
     "text": [
      "C:\\Users\\wangz\\AppData\\Local\\Temp\\ipykernel_39040\\2529516299.py:9: FutureWarning: The behavior of `series[i:j]` with an integer-dtype index is deprecated. In a future version, this will be treated as *label-based* indexing, consistent with e.g. `series[i]` lookups. To retain the old behavior, use `series.iloc[i:j]`. To get the future behavior, use `series.loc[i:j]`.\n",
      "  model_inputs = total_dataset[len(total_dataset) - len(test_data) - prediction_days:].values\n",
      "C:\\Users\\wangz\\AppData\\Local\\Temp\\ipykernel_39040\\2529516299.py:9: FutureWarning: The behavior of `series[i:j]` with an integer-dtype index is deprecated. In a future version, this will be treated as *label-based* indexing, consistent with e.g. `series[i]` lookups. To retain the old behavior, use `series.iloc[i:j]`. To get the future behavior, use `series.loc[i:j]`.\n",
      "  model_inputs = total_dataset[len(total_dataset) - len(test_data) - prediction_days:].values\n"
     ]
    },
    {
     "name": "stdout",
     "output_type": "stream",
     "text": [
      "3/3 [==============================] - 0s 15ms/step\n",
      "1/3 [=========>....................] - ETA: 0s"
     ]
    },
    {
     "name": "stderr",
     "output_type": "stream",
     "text": [
      "C:\\Users\\wangz\\AppData\\Local\\Temp\\ipykernel_39040\\2529516299.py:9: FutureWarning: The behavior of `series[i:j]` with an integer-dtype index is deprecated. In a future version, this will be treated as *label-based* indexing, consistent with e.g. `series[i]` lookups. To retain the old behavior, use `series.iloc[i:j]`. To get the future behavior, use `series.loc[i:j]`.\n",
      "  model_inputs = total_dataset[len(total_dataset) - len(test_data) - prediction_days:].values\n",
      "C:\\Users\\wangz\\AppData\\Local\\Temp\\ipykernel_39040\\2529516299.py:9: FutureWarning: The behavior of `series[i:j]` with an integer-dtype index is deprecated. In a future version, this will be treated as *label-based* indexing, consistent with e.g. `series[i]` lookups. To retain the old behavior, use `series.iloc[i:j]`. To get the future behavior, use `series.loc[i:j]`.\n",
      "  model_inputs = total_dataset[len(total_dataset) - len(test_data) - prediction_days:].values\n"
     ]
    },
    {
     "name": "stdout",
     "output_type": "stream",
     "text": [
      "3/3 [==============================] - 0s 14ms/step\n",
      "3/3 [==============================] - 0s 14ms/step\n",
      "3/3 [==============================] - 0s 14ms/step\n"
     ]
    },
    {
     "name": "stderr",
     "output_type": "stream",
     "text": [
      "C:\\Users\\wangz\\AppData\\Local\\Temp\\ipykernel_39040\\2529516299.py:9: FutureWarning: The behavior of `series[i:j]` with an integer-dtype index is deprecated. In a future version, this will be treated as *label-based* indexing, consistent with e.g. `series[i]` lookups. To retain the old behavior, use `series.iloc[i:j]`. To get the future behavior, use `series.loc[i:j]`.\n",
      "  model_inputs = total_dataset[len(total_dataset) - len(test_data) - prediction_days:].values\n",
      "C:\\Users\\wangz\\AppData\\Local\\Temp\\ipykernel_39040\\2529516299.py:9: FutureWarning: The behavior of `series[i:j]` with an integer-dtype index is deprecated. In a future version, this will be treated as *label-based* indexing, consistent with e.g. `series[i]` lookups. To retain the old behavior, use `series.iloc[i:j]`. To get the future behavior, use `series.loc[i:j]`.\n",
      "  model_inputs = total_dataset[len(total_dataset) - len(test_data) - prediction_days:].values\n"
     ]
    },
    {
     "name": "stdout",
     "output_type": "stream",
     "text": [
      "3/3 [==============================] - 0s 12ms/step\n",
      "3/3 [==============================] - 0s 14ms/step\n"
     ]
    },
    {
     "name": "stderr",
     "output_type": "stream",
     "text": [
      "C:\\Users\\wangz\\AppData\\Local\\Temp\\ipykernel_39040\\2529516299.py:9: FutureWarning: The behavior of `series[i:j]` with an integer-dtype index is deprecated. In a future version, this will be treated as *label-based* indexing, consistent with e.g. `series[i]` lookups. To retain the old behavior, use `series.iloc[i:j]`. To get the future behavior, use `series.loc[i:j]`.\n",
      "  model_inputs = total_dataset[len(total_dataset) - len(test_data) - prediction_days:].values\n",
      "C:\\Users\\wangz\\AppData\\Local\\Temp\\ipykernel_39040\\2529516299.py:9: FutureWarning: The behavior of `series[i:j]` with an integer-dtype index is deprecated. In a future version, this will be treated as *label-based* indexing, consistent with e.g. `series[i]` lookups. To retain the old behavior, use `series.iloc[i:j]`. To get the future behavior, use `series.loc[i:j]`.\n",
      "  model_inputs = total_dataset[len(total_dataset) - len(test_data) - prediction_days:].values\n"
     ]
    },
    {
     "name": "stdout",
     "output_type": "stream",
     "text": [
      "3/3 [==============================] - 0s 12ms/step\n",
      "3/3 [==============================] - 0s 16ms/step\n"
     ]
    },
    {
     "name": "stderr",
     "output_type": "stream",
     "text": [
      "C:\\Users\\wangz\\AppData\\Local\\Temp\\ipykernel_39040\\2529516299.py:9: FutureWarning: The behavior of `series[i:j]` with an integer-dtype index is deprecated. In a future version, this will be treated as *label-based* indexing, consistent with e.g. `series[i]` lookups. To retain the old behavior, use `series.iloc[i:j]`. To get the future behavior, use `series.loc[i:j]`.\n",
      "  model_inputs = total_dataset[len(total_dataset) - len(test_data) - prediction_days:].values\n",
      "C:\\Users\\wangz\\AppData\\Local\\Temp\\ipykernel_39040\\2529516299.py:9: FutureWarning: The behavior of `series[i:j]` with an integer-dtype index is deprecated. In a future version, this will be treated as *label-based* indexing, consistent with e.g. `series[i]` lookups. To retain the old behavior, use `series.iloc[i:j]`. To get the future behavior, use `series.loc[i:j]`.\n",
      "  model_inputs = total_dataset[len(total_dataset) - len(test_data) - prediction_days:].values\n"
     ]
    },
    {
     "name": "stdout",
     "output_type": "stream",
     "text": [
      "3/3 [==============================] - 0s 14ms/step\n",
      "3/3 [==============================] - 0s 12ms/step\n"
     ]
    },
    {
     "name": "stderr",
     "output_type": "stream",
     "text": [
      "C:\\Users\\wangz\\AppData\\Local\\Temp\\ipykernel_39040\\2529516299.py:9: FutureWarning: The behavior of `series[i:j]` with an integer-dtype index is deprecated. In a future version, this will be treated as *label-based* indexing, consistent with e.g. `series[i]` lookups. To retain the old behavior, use `series.iloc[i:j]`. To get the future behavior, use `series.loc[i:j]`.\n",
      "  model_inputs = total_dataset[len(total_dataset) - len(test_data) - prediction_days:].values\n",
      "C:\\Users\\wangz\\AppData\\Local\\Temp\\ipykernel_39040\\2529516299.py:9: FutureWarning: The behavior of `series[i:j]` with an integer-dtype index is deprecated. In a future version, this will be treated as *label-based* indexing, consistent with e.g. `series[i]` lookups. To retain the old behavior, use `series.iloc[i:j]`. To get the future behavior, use `series.loc[i:j]`.\n",
      "  model_inputs = total_dataset[len(total_dataset) - len(test_data) - prediction_days:].values\n"
     ]
    },
    {
     "name": "stdout",
     "output_type": "stream",
     "text": [
      "3/3 [==============================] - 0s 12ms/step\n",
      "1/3 [=========>....................] - ETA: 0s"
     ]
    },
    {
     "name": "stderr",
     "output_type": "stream",
     "text": [
      "C:\\Users\\wangz\\AppData\\Local\\Temp\\ipykernel_39040\\2529516299.py:9: FutureWarning: The behavior of `series[i:j]` with an integer-dtype index is deprecated. In a future version, this will be treated as *label-based* indexing, consistent with e.g. `series[i]` lookups. To retain the old behavior, use `series.iloc[i:j]`. To get the future behavior, use `series.loc[i:j]`.\n",
      "  model_inputs = total_dataset[len(total_dataset) - len(test_data) - prediction_days:].values\n",
      "C:\\Users\\wangz\\AppData\\Local\\Temp\\ipykernel_39040\\2529516299.py:9: FutureWarning: The behavior of `series[i:j]` with an integer-dtype index is deprecated. In a future version, this will be treated as *label-based* indexing, consistent with e.g. `series[i]` lookups. To retain the old behavior, use `series.iloc[i:j]`. To get the future behavior, use `series.loc[i:j]`.\n",
      "  model_inputs = total_dataset[len(total_dataset) - len(test_data) - prediction_days:].values\n"
     ]
    },
    {
     "name": "stdout",
     "output_type": "stream",
     "text": [
      "3/3 [==============================] - 0s 12ms/step\n",
      "3/3 [==============================] - 0s 15ms/step\n",
      "2/2 [==============================] - 0s 16ms/step\n"
     ]
    },
    {
     "name": "stderr",
     "output_type": "stream",
     "text": [
      "C:\\Users\\wangz\\AppData\\Local\\Temp\\ipykernel_39040\\2529516299.py:9: FutureWarning: The behavior of `series[i:j]` with an integer-dtype index is deprecated. In a future version, this will be treated as *label-based* indexing, consistent with e.g. `series[i]` lookups. To retain the old behavior, use `series.iloc[i:j]`. To get the future behavior, use `series.loc[i:j]`.\n",
      "  model_inputs = total_dataset[len(total_dataset) - len(test_data) - prediction_days:].values\n",
      "C:\\Users\\wangz\\AppData\\Local\\Temp\\ipykernel_39040\\2529516299.py:9: FutureWarning: The behavior of `series[i:j]` with an integer-dtype index is deprecated. In a future version, this will be treated as *label-based* indexing, consistent with e.g. `series[i]` lookups. To retain the old behavior, use `series.iloc[i:j]`. To get the future behavior, use `series.loc[i:j]`.\n",
      "  model_inputs = total_dataset[len(total_dataset) - len(test_data) - prediction_days:].values\n"
     ]
    }
   ],
   "source": [
    "temp = get_all_stock_data(companyList)"
   ]
  },
  {
   "cell_type": "code",
   "execution_count": null,
   "metadata": {},
   "outputs": [],
   "source": [
    "\n",
    "conn = connect('new_lstm_prediction.db')\n",
    "for t in temp:\n",
    "    pd.read_sql('INSERT * FROM alltickers', conn)"
   ]
  }
 ],
 "metadata": {
  "kernelspec": {
   "display_name": "Python 3.9.15 ('py39')",
   "language": "python",
   "name": "python3"
  },
  "language_info": {
   "codemirror_mode": {
    "name": "ipython",
    "version": 3
   },
   "file_extension": ".py",
   "mimetype": "text/x-python",
   "name": "python",
   "nbconvert_exporter": "python",
   "pygments_lexer": "ipython3",
   "version": "3.9.15"
  },
  "orig_nbformat": 4,
  "vscode": {
   "interpreter": {
    "hash": "73583d60eb701947e833215faeeff66f467dc082255c8635c421a87934c01a5c"
   }
  }
 },
 "nbformat": 4,
 "nbformat_minor": 2
}
